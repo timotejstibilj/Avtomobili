{
 "cells": [
  {
   "cell_type": "markdown",
   "metadata": {},
   "source": [
    "TUKAJ NEKAJ NAPIŠI"
   ]
  },
  {
   "cell_type": "code",
   "execution_count": 3,
   "metadata": {},
   "outputs": [],
   "source": [
    "# naložimo paket\n",
    "import pandas as pd\n",
    "\n",
    "# ker bomo delali z velikimi razpredelnicami, povemo, da naj se vedno izpiše le 10 vrstic\n",
    "pd.options.display.max_rows = 10\n",
    "\n",
    "# izberemo interaktivni \"notebook\" stil risanja\n",
    "%matplotlib inline\n",
    "\n",
    "# naložimo razpredelnico, s katero bomo delali\n",
    "import os.path\n",
    "pot_do_podatkov = os.path.join(\"../../\", \"avtomobili\", \"Avtomobili\", \"obdelani-podatki\", \"oglasi.csv\")\n",
    "\n",
    "avti = pd.read_csv(pot_do_podatkov)"
   ]
  },
  {
   "cell_type": "markdown",
   "metadata": {},
   "source": [
    "Poglejmo si podatke."
   ]
  },
  {
   "cell_type": "code",
   "execution_count": 107,
   "metadata": {},
   "outputs": [
    {
     "data": {
      "text/html": [
       "<div>\n",
       "<style scoped>\n",
       "    .dataframe tbody tr th:only-of-type {\n",
       "        vertical-align: middle;\n",
       "    }\n",
       "\n",
       "    .dataframe tbody tr th {\n",
       "        vertical-align: top;\n",
       "    }\n",
       "\n",
       "    .dataframe thead th {\n",
       "        text-align: right;\n",
       "    }\n",
       "</style>\n",
       "<table border=\"1\" class=\"dataframe\">\n",
       "  <thead>\n",
       "    <tr style=\"text-align: right;\">\n",
       "      <th></th>\n",
       "      <th>ime_avtomobila</th>\n",
       "      <th>znamka</th>\n",
       "      <th>leto_prve_registracije</th>\n",
       "      <th>prevozeni_kilometri</th>\n",
       "      <th>vrsta_motorja</th>\n",
       "      <th>vrsta_menjalnika</th>\n",
       "      <th>velikost_motorja</th>\n",
       "      <th>moc_motorja</th>\n",
       "      <th>cena</th>\n",
       "      <th>desetletje</th>\n",
       "    </tr>\n",
       "  </thead>\n",
       "  <tbody>\n",
       "    <tr>\n",
       "      <th>0</th>\n",
       "      <td>Abarth - 500-PANORAMA-ODLIÈEN</td>\n",
       "      <td>Abarth</td>\n",
       "      <td>2008</td>\n",
       "      <td>119000 km</td>\n",
       "      <td>bencinski motor</td>\n",
       "      <td>ročni menjalnik</td>\n",
       "      <td>1369 ccm</td>\n",
       "      <td>99 kW / 135 KM\\r\\n</td>\n",
       "      <td>9650</td>\n",
       "      <td>2000</td>\n",
       "    </tr>\n",
       "    <tr>\n",
       "      <th>1</th>\n",
       "      <td>Alfa Romeo 147 1.9 JTD Distinctive</td>\n",
       "      <td>Alfa</td>\n",
       "      <td>2005</td>\n",
       "      <td>232000 km</td>\n",
       "      <td>diesel motor</td>\n",
       "      <td>ročni menjalnik</td>\n",
       "      <td>1910 ccm</td>\n",
       "      <td>85 kW / 116 KM\\r\\n</td>\n",
       "      <td>1500</td>\n",
       "      <td>2000</td>\n",
       "    </tr>\n",
       "    <tr>\n",
       "      <th>2</th>\n",
       "      <td>Alfa Romeo 147 1.9 JTD Distinctive</td>\n",
       "      <td>Alfa</td>\n",
       "      <td>2003</td>\n",
       "      <td>340000 km</td>\n",
       "      <td>diesel motor</td>\n",
       "      <td>ročni menjalnik</td>\n",
       "      <td>1910 ccm</td>\n",
       "      <td>85 kW / 116 KM\\r\\n</td>\n",
       "      <td>350</td>\n",
       "      <td>2000</td>\n",
       "    </tr>\n",
       "    <tr>\n",
       "      <th>3</th>\n",
       "      <td>Alfa Romeo 147 1.9 JTD M-JET-HITRI KREDIT BREZ...</td>\n",
       "      <td>Alfa</td>\n",
       "      <td>2006</td>\n",
       "      <td>243900 km</td>\n",
       "      <td>diesel motor</td>\n",
       "      <td>ročni menjalnik</td>\n",
       "      <td>1910 ccm</td>\n",
       "      <td>88 kW / 120 KM\\r\\n</td>\n",
       "      <td>1790</td>\n",
       "      <td>2000</td>\n",
       "    </tr>\n",
       "    <tr>\n",
       "      <th>4</th>\n",
       "      <td>Alfa Romeo 156 Sportwagon 1.9 JTD Progression</td>\n",
       "      <td>Alfa</td>\n",
       "      <td>2003</td>\n",
       "      <td>338000 km</td>\n",
       "      <td>diesel motor</td>\n",
       "      <td>ročni menjalnik</td>\n",
       "      <td>1910 ccm</td>\n",
       "      <td>85 kW / 116 KM\\r\\n</td>\n",
       "      <td>1250</td>\n",
       "      <td>2000</td>\n",
       "    </tr>\n",
       "    <tr>\n",
       "      <th>...</th>\n",
       "      <td>...</td>\n",
       "      <td>...</td>\n",
       "      <td>...</td>\n",
       "      <td>...</td>\n",
       "      <td>...</td>\n",
       "      <td>...</td>\n",
       "      <td>...</td>\n",
       "      <td>...</td>\n",
       "      <td>...</td>\n",
       "      <td>...</td>\n",
       "    </tr>\n",
       "    <tr>\n",
       "      <th>930</th>\n",
       "      <td>Volvo V60 D6 AWD Summum Hybrid Plug-in</td>\n",
       "      <td>Volvo</td>\n",
       "      <td>2013</td>\n",
       "      <td>209745 km</td>\n",
       "      <td>diesel motor</td>\n",
       "      <td>avtomatski menjalnik</td>\n",
       "      <td>2400 ccm</td>\n",
       "      <td>158 kW / 215 KM\\r\\n</td>\n",
       "      <td>14400</td>\n",
       "      <td>2010</td>\n",
       "    </tr>\n",
       "    <tr>\n",
       "      <th>931</th>\n",
       "      <td>Volvo XC60 2.4 5valjni D4 AWD|4x4 Summum®Gear...</td>\n",
       "      <td>Volvo</td>\n",
       "      <td>2016</td>\n",
       "      <td>145282 km</td>\n",
       "      <td>diesel motor</td>\n",
       "      <td>avtomatski menjalnik</td>\n",
       "      <td>2400 ccm</td>\n",
       "      <td>140 kW / 190 KM\\r\\n</td>\n",
       "      <td>20999</td>\n",
       "      <td>2010</td>\n",
       "    </tr>\n",
       "    <tr>\n",
       "      <th>932</th>\n",
       "      <td>Volvo XC60 FWD D4 Momentum</td>\n",
       "      <td>Volvo</td>\n",
       "      <td>2014</td>\n",
       "      <td>205000 km</td>\n",
       "      <td>diesel motor</td>\n",
       "      <td>ročni menjalnik</td>\n",
       "      <td>1969 ccm</td>\n",
       "      <td>133 kW / 181 KM\\r\\n</td>\n",
       "      <td>15300</td>\n",
       "      <td>2010</td>\n",
       "    </tr>\n",
       "    <tr>\n",
       "      <th>933</th>\n",
       "      <td>Volvo XC90 D5 AWD Kinetic Geartronic</td>\n",
       "      <td>Volvo</td>\n",
       "      <td>2017</td>\n",
       "      <td>82457 km</td>\n",
       "      <td>diesel motor</td>\n",
       "      <td>avtomatski menjalnik</td>\n",
       "      <td>1969 ccm</td>\n",
       "      <td>173 kW / 235 KM\\r\\n</td>\n",
       "      <td>30900</td>\n",
       "      <td>2010</td>\n",
       "    </tr>\n",
       "    <tr>\n",
       "      <th>934</th>\n",
       "      <td>Volvo XC90 T8 Twin Engine R-Design Geartronic-...</td>\n",
       "      <td>Volvo</td>\n",
       "      <td>2016</td>\n",
       "      <td>140300 km</td>\n",
       "      <td>hibridni pogon</td>\n",
       "      <td>avtomatski menjalnik</td>\n",
       "      <td>1969 ccm</td>\n",
       "      <td>235 kW / 320 KM\\r\\n</td>\n",
       "      <td>43700</td>\n",
       "      <td>2010</td>\n",
       "    </tr>\n",
       "  </tbody>\n",
       "</table>\n",
       "<p>935 rows × 10 columns</p>\n",
       "</div>"
      ],
      "text/plain": [
       "                                        ime_avtomobila  znamka  \\\n",
       "0                       Abarth - 500-PANORAMA-ODLIÈEN   Abarth   \n",
       "1                   Alfa Romeo 147 1.9 JTD Distinctive    Alfa   \n",
       "2                   Alfa Romeo 147 1.9 JTD Distinctive    Alfa   \n",
       "3    Alfa Romeo 147 1.9 JTD M-JET-HITRI KREDIT BREZ...    Alfa   \n",
       "4        Alfa Romeo 156 Sportwagon 1.9 JTD Progression    Alfa   \n",
       "..                                                 ...     ...   \n",
       "930             Volvo V60 D6 AWD Summum Hybrid Plug-in   Volvo   \n",
       "931  Volvo XC60 2.4 5valjni D4 AWD|4x4 Summum®Gear...   Volvo   \n",
       "932                         Volvo XC60 FWD D4 Momentum   Volvo   \n",
       "933               Volvo XC90 D5 AWD Kinetic Geartronic   Volvo   \n",
       "934  Volvo XC90 T8 Twin Engine R-Design Geartronic-...   Volvo   \n",
       "\n",
       "     leto_prve_registracije prevozeni_kilometri    vrsta_motorja  \\\n",
       "0                      2008           119000 km  bencinski motor   \n",
       "1                      2005           232000 km     diesel motor   \n",
       "2                      2003           340000 km     diesel motor   \n",
       "3                      2006           243900 km     diesel motor   \n",
       "4                      2003           338000 km     diesel motor   \n",
       "..                      ...                 ...              ...   \n",
       "930                    2013           209745 km     diesel motor   \n",
       "931                    2016           145282 km     diesel motor   \n",
       "932                    2014           205000 km     diesel motor   \n",
       "933                    2017            82457 km     diesel motor   \n",
       "934                    2016           140300 km   hibridni pogon   \n",
       "\n",
       "         vrsta_menjalnika velikost_motorja          moc_motorja   cena  \\\n",
       "0         ročni menjalnik         1369 ccm   99 kW / 135 KM\\r\\n   9650   \n",
       "1         ročni menjalnik         1910 ccm   85 kW / 116 KM\\r\\n   1500   \n",
       "2         ročni menjalnik         1910 ccm   85 kW / 116 KM\\r\\n    350   \n",
       "3         ročni menjalnik         1910 ccm   88 kW / 120 KM\\r\\n   1790   \n",
       "4         ročni menjalnik         1910 ccm   85 kW / 116 KM\\r\\n   1250   \n",
       "..                    ...              ...                  ...    ...   \n",
       "930  avtomatski menjalnik         2400 ccm  158 kW / 215 KM\\r\\n  14400   \n",
       "931  avtomatski menjalnik         2400 ccm  140 kW / 190 KM\\r\\n  20999   \n",
       "932       ročni menjalnik         1969 ccm  133 kW / 181 KM\\r\\n  15300   \n",
       "933  avtomatski menjalnik         1969 ccm  173 kW / 235 KM\\r\\n  30900   \n",
       "934  avtomatski menjalnik         1969 ccm  235 kW / 320 KM\\r\\n  43700   \n",
       "\n",
       "     desetletje  \n",
       "0          2000  \n",
       "1          2000  \n",
       "2          2000  \n",
       "3          2000  \n",
       "4          2000  \n",
       "..          ...  \n",
       "930        2010  \n",
       "931        2010  \n",
       "932        2010  \n",
       "933        2010  \n",
       "934        2010  \n",
       "\n",
       "[935 rows x 10 columns]"
      ]
     },
     "execution_count": 107,
     "metadata": {},
     "output_type": "execute_result"
    }
   ],
   "source": [
    "avti"
   ]
  },
  {
   "cell_type": "markdown",
   "metadata": {},
   "source": [
    "Iz vsakega oglasa za dan avtomobil izločimo sledeče:\n",
    "- polno ime\n",
    "- znamko\n",
    "- leto prve registracije\n",
    "- stevilo prevozenih kilometrov\n",
    "- vrsto motorja\n",
    "- vrsto menjalnika\n",
    "- velikost motorja\n",
    "- moč motorja\n",
    "- ceno"
   ]
  },
  {
   "cell_type": "markdown",
   "metadata": {},
   "source": [
    "## Avto za študenta\n",
    "\n",
    "Denimo da ima študent privarčevanih 500€ in ga zanima ali si z njimi lahko privošči nakup avtomobila. Ali lahko na spletni strani avto.net najde kaj primernega? Postavimo dodatne pogoje, starost avtomobila manj kot 15 let in manj kot 150 000 prevoženih kilometrov, da zožimo iskanje na nekoliko bolj ohranjene avte."
   ]
  },
  {
   "cell_type": "code",
   "execution_count": 108,
   "metadata": {},
   "outputs": [
    {
     "data": {
      "text/html": [
       "<div>\n",
       "<style scoped>\n",
       "    .dataframe tbody tr th:only-of-type {\n",
       "        vertical-align: middle;\n",
       "    }\n",
       "\n",
       "    .dataframe tbody tr th {\n",
       "        vertical-align: top;\n",
       "    }\n",
       "\n",
       "    .dataframe thead th {\n",
       "        text-align: right;\n",
       "    }\n",
       "</style>\n",
       "<table border=\"1\" class=\"dataframe\">\n",
       "  <thead>\n",
       "    <tr style=\"text-align: right;\">\n",
       "      <th></th>\n",
       "      <th>ime_avtomobila</th>\n",
       "      <th>znamka</th>\n",
       "      <th>leto_prve_registracije</th>\n",
       "      <th>prevozeni_kilometri</th>\n",
       "      <th>vrsta_motorja</th>\n",
       "      <th>vrsta_menjalnika</th>\n",
       "      <th>velikost_motorja</th>\n",
       "      <th>moc_motorja</th>\n",
       "      <th>cena</th>\n",
       "      <th>desetletje</th>\n",
       "    </tr>\n",
       "  </thead>\n",
       "  <tbody>\n",
       "    <tr>\n",
       "      <th>441</th>\n",
       "      <td>Mercedes-Benz C-Razred</td>\n",
       "      <td>Mercedes-Benz</td>\n",
       "      <td>2021</td>\n",
       "      <td>245000 km</td>\n",
       "      <td>bencinski motor</td>\n",
       "      <td>ročni menjalnik</td>\n",
       "      <td>1995 ccm</td>\n",
       "      <td>93 kW / 126 KM\\r\\n</td>\n",
       "      <td>990</td>\n",
       "      <td>2020</td>\n",
       "    </tr>\n",
       "    <tr>\n",
       "      <th>822</th>\n",
       "      <td>Volkswagen Golf Variant 2.0 TDI BMT Highline D...</td>\n",
       "      <td>Volkswagen</td>\n",
       "      <td>2014</td>\n",
       "      <td>175532 km</td>\n",
       "      <td>diesel motor</td>\n",
       "      <td>avtomatski menjalnik</td>\n",
       "      <td>1968 ccm</td>\n",
       "      <td>110 kW / 150 KM\\r\\n</td>\n",
       "      <td>800</td>\n",
       "      <td>2010</td>\n",
       "    </tr>\n",
       "  </tbody>\n",
       "</table>\n",
       "</div>"
      ],
      "text/plain": [
       "                                        ime_avtomobila         znamka  \\\n",
       "441                            Mercedes-Benz C-Razred   Mercedes-Benz   \n",
       "822  Volkswagen Golf Variant 2.0 TDI BMT Highline D...     Volkswagen   \n",
       "\n",
       "     leto_prve_registracije prevozeni_kilometri    vrsta_motorja  \\\n",
       "441                    2021           245000 km  bencinski motor   \n",
       "822                    2014           175532 km     diesel motor   \n",
       "\n",
       "         vrsta_menjalnika velikost_motorja          moc_motorja  cena  \\\n",
       "441       ročni menjalnik         1995 ccm   93 kW / 126 KM\\r\\n   990   \n",
       "822  avtomatski menjalnik         1968 ccm  110 kW / 150 KM\\r\\n   800   \n",
       "\n",
       "     desetletje  \n",
       "441        2020  \n",
       "822        2010  "
      ]
     },
     "execution_count": 108,
     "metadata": {},
     "output_type": "execute_result"
    }
   ],
   "source": [
    "avti[(avti.cena < 1000) & (avti.leto_prve_registracije > 2011)]"
   ]
  },
  {
   "cell_type": "code",
   "execution_count": 109,
   "metadata": {},
   "outputs": [
    {
     "data": {
      "text/plain": [
       "<AxesSubplot:xlabel='leto_prve_registracije', ylabel='cena'>"
      ]
     },
     "execution_count": 109,
     "metadata": {},
     "output_type": "execute_result"
    },
    {
     "data": {
      "image/png": "[encoded data removed]",
      "text/plain": [
       "<Figure size 432x288 with 1 Axes>"
      ]
     },
     "metadata": {
      "needs_background": "light"
     },
     "output_type": "display_data"
    }
   ],
   "source": [
    "avti[avti.leto_prve_registracije > 1990].plot.scatter(\"leto_prve_registracije\", \"cena\")"
   ]
  },
  {
   "cell_type": "code",
   "execution_count": 110,
   "metadata": {},
   "outputs": [
    {
     "data": {
      "text/plain": [
       "<AxesSubplot:xlabel='znamka'>"
      ]
     },
     "execution_count": 110,
     "metadata": {},
     "output_type": "execute_result"
    },
    {
     "data": {
      "image/png": "[encoded data removed]",
      "text/plain": [
       "<Figure size 432x288 with 1 Axes>"
      ]
     },
     "metadata": {
      "needs_background": "light"
     },
     "output_type": "display_data"
    }
   ],
   "source": [
    "avti.sort_values('cena', ascending=False).head(20).plot.bar(x='znamka', y='cena')"
   ]
  },
  {
   "cell_type": "markdown",
   "metadata": {},
   "source": [
    "## Primerjava bencin/dizel\n",
    "\n",
    "Ob nakupu avtomobila se lahko izbere različne vrste motorja. Včasih je bil v uporabi predvsem bencinski motor, v zadnjih desetletjih pa se mu je na vrhu lestvice popularnosti pridružil dizelski motor. Na trgu so tudi druge različice, kot na primer avtomobili na električni pogon in pa hibridna vozila, a so le te vsaj zankrat v manjšini."
   ]
  },
  {
   "cell_type": "code",
   "execution_count": 131,
   "metadata": {
    "scrolled": false
   },
   "outputs": [
    {
     "data": {
      "text/plain": [
       "<AxesSubplot:xlabel='vrsta_motorja'>"
      ]
     },
     "execution_count": 131,
     "metadata": {},
     "output_type": "execute_result"
    },
    {
     "data": {
      "image/png": "[encoded data removed]",
      "text/plain": [
       "<Figure size 432x288 with 1 Axes>"
      ]
     },
     "metadata": {
      "needs_background": "light"
     },
     "output_type": "display_data"
    }
   ],
   "source": [
    "avtomobili_motor = avti.groupby(\"vrsta_motorja\")\n",
    "avtomobili_motor.size().plot.bar(x=\"vrsta_motorja\", y=avti_motor.size())"
   ]
  },
  {
   "cell_type": "markdown",
   "metadata": {},
   "source": [
    "V skladu z zgoraj napisanim so tudi rabljeni avtomobili na avto.net v večini primerov opremljeni bodisi z bencinskim bodisi z dizlovim motorjem, ki ga ima največ avtomobilov. Posledično je smiselno ti dve vrsti motorja primerjati in se vprašati, kateri motor je za kupca boljša izbira.\n",
    "Dizelski motor je v primerjavi z bencinskim smatran za primernejšega za daljše razdalje, veliko prevoženih kilometrov in običajno velja za nekoliko dražjega. Dolgi kilometri na cesti naj bi se bolj izplačali z dizlovim motorjem, saj je za dizel ponavadi potrebno odšteti precej manj kot za bencin. Potrebno pa je omeniti, da je v času posledic ki jih je Covid-19 pustil na svetovnom gospodarstvu, ta razlika v ceni zanemarljiva oziroma je bencin še cenejši (1,074€ / 1,124€ - iz dne 2.2.2021, vir: [AMZS](https://www.amzs.si/na-poti/cene-goriv-po-evropi).\n",
    "Primerjajmo torej rabljene avtomobile z dizlovim in bencinskim motorjem, ki jih je moč kupiti na [avto.net][https://www.avto.net/Ads/results.asp?znamka=&model=&modelID=&tip=&znamka2=&model2=&tip2=&znamka3=&model3=&tip3=&cenaMin=0&cenaMax=999999&letnikMin=0&letnikMax=2090&bencin=0&starost2=999&oblika=&ccmMin=0&ccmMax=99999&mocMin=&mocMax=&kmMin=0&kmMax=9999999&kwMin=0&kwMax=999&motortakt=&motorvalji=&lokacija=0&sirina=&dolzina=&dolzinaMIN=&dolzinaMAX=&nosilnostMIN=&nosilnostMAX=&lezisc=&presek=&premer=&col=&vijakov=&EToznaka=&vozilo=&airbag=&barva=&barvaint=&EQ1=1000000000&EQ2=1000000000&EQ3=1000000000&EQ4=100000000&EQ5=1000000000&EQ6=1000000000&EQ7=1000100020&EQ8=1010000001&EQ9=100000000&KAT=1010000000&PIA=&PIAzero=&PSLO=&akcija=&paketgarancije=0&broker=&prikazkategorije=&kategorija=&ONLvid=&ONLnak=&zaloga=10&arhiv=&presort=&tipsort=&stran=]"
   ]
  },
  {
   "cell_type": "code",
   "execution_count": null,
   "metadata": {},
   "outputs": [],
   "source": [
    "Zanimata nas le omenjeni dve vrsti motorja. Za začetek si oglejmo povprečno ceno avta glede ne motor."
   ]
  },
  {
   "cell_type": "code",
   "execution_count": 148,
   "metadata": {},
   "outputs": [
    {
     "data": {
      "text/plain": [
       "<AxesSubplot:xlabel='vrsta_motorja'>"
      ]
     },
     "execution_count": 148,
     "metadata": {},
     "output_type": "execute_result"
    },
    {
     "data": {
      "image/png": "[encoded data removed]",
      "text/plain": [
       "<Figure size 432x288 with 1 Axes>"
      ]
     },
     "metadata": {
      "needs_background": "light"
     },
     "output_type": "display_data"
    }
   ],
   "source": [
    "izbrana_motorja = avti[(avti.vrsta_motorja == \"bencinski motor\") | (avti.vrsta_motorja == \"diesel motor\")].groupby(\"vrsta_motorja\")\n",
    "izbrana_motorja.cena.mean().round().plot.bar(x = \"vrsta_motorja\", y = izbrana_motorja.cena)"
   ]
  },
  {
   "cell_type": "markdown",
   "metadata": {},
   "source": [
    "Predpostavka o ceni torej drži, vsaj v povprečju. Toda razlika v povprečni ceni je ogromna, skoraj dvakratna, zato je smotrno upoštevati še dodatne parametre, ki igrajo vlogo pri gibanju cen in s tem dobiti realnejšo sliko o cenovni razliki med \"bencincem\" in \"dizlom\". To so vrsta menjalnika, velikost in moč motorja, število prevoženih kilometrov in pa seveda starost avtomobila, ki jo bomo za potrebe analize enačili s pretečenim časom od prve registracije."
   ]
  }
 ],
 "metadata": {
  "kernelspec": {
   "display_name": "Python 3",
   "language": "python",
   "name": "python3"
  },
  "language_info": {
   "codemirror_mode": {
    "name": "ipython",
    "version": 3
   },
   "file_extension": ".py",
   "mimetype": "text/x-python",
   "name": "python",
   "nbconvert_exporter": "python",
   "pygments_lexer": "ipython3",
   "version": "3.8.5"
  }
 },
 "nbformat": 4,
 "nbformat_minor": 4
}
