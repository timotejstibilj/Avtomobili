{
 "cells": [
  {
   "cell_type": "markdown",
   "metadata": {},
   "source": [
    "# Analiza rabljenih avtomobilov s strani avto.net\n",
    "\n",
    "Analizo bomo opravili s pomočjo knjižnice *pandas* in *csv tabele*, ki jo pred začetkom naložimo."
   ]
  },
  {
   "cell_type": "code",
   "execution_count": 2,
   "metadata": {},
   "outputs": [],
   "source": [
    "# naložimo paket\n",
    "import pandas as pd\n",
    "import numpy as np\n",
    "\n",
    "\n",
    "# ker bomo delali z velikimi razpredelnicami, povemo, da naj se vedno izpiše le 10 vrstic\n",
    "pd.options.display.max_rows = 10\n",
    "\n",
    "# izberemo interaktivni \"notebook\" stil risanja\n",
    "%matplotlib inline\n",
    "\n",
    "# naložimo razpredelnico, s katero bomo delali\n",
    "import os.path\n",
    "pot_do_podatkov = os.path.join(\"../../\", \"avtomobili\", \"Avtomobili\", \"obdelani-podatki\", \"oglasi.csv\")\n",
    "\n",
    "avti = pd.read_csv(pot_do_podatkov)"
   ]
  },
  {
   "cell_type": "markdown",
   "metadata": {},
   "source": [
    "Poglejmo si podatke.\n",
    "Opomba: velikost motorja je podana v ccm, moč motorja v kW, cena pa v evrih."
   ]
  },
  {
   "cell_type": "code",
   "execution_count": 3,
   "metadata": {},
   "outputs": [
    {
     "data": {
      "text/html": [
       "<div>\n",
       "<style scoped>\n",
       "    .dataframe tbody tr th:only-of-type {\n",
       "        vertical-align: middle;\n",
       "    }\n",
       "\n",
       "    .dataframe tbody tr th {\n",
       "        vertical-align: top;\n",
       "    }\n",
       "\n",
       "    .dataframe thead th {\n",
       "        text-align: right;\n",
       "    }\n",
       "</style>\n",
       "<table border=\"1\" class=\"dataframe\">\n",
       "  <thead>\n",
       "    <tr style=\"text-align: right;\">\n",
       "      <th></th>\n",
       "      <th>ime_avtomobila</th>\n",
       "      <th>znamka</th>\n",
       "      <th>leto_prve_registracije</th>\n",
       "      <th>prevozeni_kilometri</th>\n",
       "      <th>vrsta_motorja</th>\n",
       "      <th>vrsta_menjalnika</th>\n",
       "      <th>velikost_motorja</th>\n",
       "      <th>moc_motorja</th>\n",
       "      <th>cena</th>\n",
       "    </tr>\n",
       "  </thead>\n",
       "  <tbody>\n",
       "    <tr>\n",
       "      <th>0</th>\n",
       "      <td>Abarth - 500-PANORAMA-ODLIÈEN</td>\n",
       "      <td>Abarth</td>\n",
       "      <td>2008</td>\n",
       "      <td>119000</td>\n",
       "      <td>bencinski motor</td>\n",
       "      <td>ročni menjalnik</td>\n",
       "      <td>1369</td>\n",
       "      <td>99</td>\n",
       "      <td>9650</td>\n",
       "    </tr>\n",
       "    <tr>\n",
       "      <th>10</th>\n",
       "      <td>Alfa Romeo Giulia 2.2 Multijet-1.LASTNIK-ALU-P...</td>\n",
       "      <td>Alfa</td>\n",
       "      <td>2016</td>\n",
       "      <td>147700</td>\n",
       "      <td>diesel motor</td>\n",
       "      <td>avtomatski menjalnik</td>\n",
       "      <td>2143</td>\n",
       "      <td>110</td>\n",
       "      <td>17990</td>\n",
       "    </tr>\n",
       "    <tr>\n",
       "      <th>9</th>\n",
       "      <td>Alfa Romeo GT 1.9 JTD M-Jet Progression</td>\n",
       "      <td>Alfa</td>\n",
       "      <td>2005</td>\n",
       "      <td>300000</td>\n",
       "      <td>diesel motor</td>\n",
       "      <td>ročni menjalnik</td>\n",
       "      <td>1910</td>\n",
       "      <td>110</td>\n",
       "      <td>1499</td>\n",
       "    </tr>\n",
       "    <tr>\n",
       "      <th>8</th>\n",
       "      <td>Alfa Romeo 159 Sportwagon 1.9 JTDM Progression...</td>\n",
       "      <td>Alfa</td>\n",
       "      <td>2008</td>\n",
       "      <td>250000</td>\n",
       "      <td>diesel motor</td>\n",
       "      <td>avtomatski menjalnik</td>\n",
       "      <td>1910</td>\n",
       "      <td>110</td>\n",
       "      <td>1600</td>\n",
       "    </tr>\n",
       "    <tr>\n",
       "      <th>7</th>\n",
       "      <td>Alfa Romeo 159 2.0 JTDM-BI-XENON-NAVI-170PS-V ...</td>\n",
       "      <td>Alfa</td>\n",
       "      <td>2012</td>\n",
       "      <td>154000</td>\n",
       "      <td>diesel motor</td>\n",
       "      <td>ročni menjalnik</td>\n",
       "      <td>1956</td>\n",
       "      <td>125</td>\n",
       "      <td>7999</td>\n",
       "    </tr>\n",
       "    <tr>\n",
       "      <th>...</th>\n",
       "      <td>...</td>\n",
       "      <td>...</td>\n",
       "      <td>...</td>\n",
       "      <td>...</td>\n",
       "      <td>...</td>\n",
       "      <td>...</td>\n",
       "      <td>...</td>\n",
       "      <td>...</td>\n",
       "      <td>...</td>\n",
       "    </tr>\n",
       "    <tr>\n",
       "      <th>923</th>\n",
       "      <td>Volvo S60 D2 NAVI+PDC</td>\n",
       "      <td>Volvo</td>\n",
       "      <td>2013</td>\n",
       "      <td>162000</td>\n",
       "      <td>diesel motor</td>\n",
       "      <td>ročni menjalnik</td>\n",
       "      <td>1560</td>\n",
       "      <td>84</td>\n",
       "      <td>7890</td>\n",
       "    </tr>\n",
       "    <tr>\n",
       "      <th>922</th>\n",
       "      <td>Volvo S40</td>\n",
       "      <td>Volvo</td>\n",
       "      <td>2011</td>\n",
       "      <td>184150</td>\n",
       "      <td>diesel motor</td>\n",
       "      <td>avtomatski menjalnik</td>\n",
       "      <td>1984</td>\n",
       "      <td>130</td>\n",
       "      <td>5600</td>\n",
       "    </tr>\n",
       "    <tr>\n",
       "      <th>933</th>\n",
       "      <td>Volvo XC90 D5 AWD Kinetic Geartronic</td>\n",
       "      <td>Volvo</td>\n",
       "      <td>2017</td>\n",
       "      <td>82457</td>\n",
       "      <td>diesel motor</td>\n",
       "      <td>avtomatski menjalnik</td>\n",
       "      <td>1969</td>\n",
       "      <td>173</td>\n",
       "      <td>30900</td>\n",
       "    </tr>\n",
       "    <tr>\n",
       "      <th>927</th>\n",
       "      <td>Volvo V60 Cross Country D3 Summum-Usnje-Kamera</td>\n",
       "      <td>Volvo</td>\n",
       "      <td>2016</td>\n",
       "      <td>131214</td>\n",
       "      <td>diesel motor</td>\n",
       "      <td>ročni menjalnik</td>\n",
       "      <td>1969</td>\n",
       "      <td>110</td>\n",
       "      <td>15440</td>\n",
       "    </tr>\n",
       "    <tr>\n",
       "      <th>934</th>\n",
       "      <td>Volvo XC90 T8 Twin Engine R-Design Geartronic-...</td>\n",
       "      <td>Volvo</td>\n",
       "      <td>2016</td>\n",
       "      <td>140300</td>\n",
       "      <td>hibridni pogon</td>\n",
       "      <td>avtomatski menjalnik</td>\n",
       "      <td>1969</td>\n",
       "      <td>235</td>\n",
       "      <td>43700</td>\n",
       "    </tr>\n",
       "  </tbody>\n",
       "</table>\n",
       "<p>935 rows × 9 columns</p>\n",
       "</div>"
      ],
      "text/plain": [
       "                                        ime_avtomobila  znamka  \\\n",
       "0                       Abarth - 500-PANORAMA-ODLIÈEN   Abarth   \n",
       "10   Alfa Romeo Giulia 2.2 Multijet-1.LASTNIK-ALU-P...    Alfa   \n",
       "9              Alfa Romeo GT 1.9 JTD M-Jet Progression    Alfa   \n",
       "8    Alfa Romeo 159 Sportwagon 1.9 JTDM Progression...    Alfa   \n",
       "7    Alfa Romeo 159 2.0 JTDM-BI-XENON-NAVI-170PS-V ...    Alfa   \n",
       "..                                                 ...     ...   \n",
       "923                              Volvo S60 D2 NAVI+PDC   Volvo   \n",
       "922                                         Volvo S40    Volvo   \n",
       "933               Volvo XC90 D5 AWD Kinetic Geartronic   Volvo   \n",
       "927     Volvo V60 Cross Country D3 Summum-Usnje-Kamera   Volvo   \n",
       "934  Volvo XC90 T8 Twin Engine R-Design Geartronic-...   Volvo   \n",
       "\n",
       "     leto_prve_registracije  prevozeni_kilometri    vrsta_motorja  \\\n",
       "0                      2008               119000  bencinski motor   \n",
       "10                     2016               147700     diesel motor   \n",
       "9                      2005               300000     diesel motor   \n",
       "8                      2008               250000     diesel motor   \n",
       "7                      2012               154000     diesel motor   \n",
       "..                      ...                  ...              ...   \n",
       "923                    2013               162000     diesel motor   \n",
       "922                    2011               184150     diesel motor   \n",
       "933                    2017                82457     diesel motor   \n",
       "927                    2016               131214     diesel motor   \n",
       "934                    2016               140300   hibridni pogon   \n",
       "\n",
       "         vrsta_menjalnika velikost_motorja moc_motorja   cena  \n",
       "0         ročni menjalnik             1369          99   9650  \n",
       "10   avtomatski menjalnik             2143         110  17990  \n",
       "9         ročni menjalnik             1910         110   1499  \n",
       "8    avtomatski menjalnik             1910         110   1600  \n",
       "7         ročni menjalnik             1956         125   7999  \n",
       "..                    ...              ...         ...    ...  \n",
       "923       ročni menjalnik             1560          84   7890  \n",
       "922  avtomatski menjalnik             1984         130   5600  \n",
       "933  avtomatski menjalnik             1969         173  30900  \n",
       "927       ročni menjalnik             1969         110  15440  \n",
       "934  avtomatski menjalnik             1969         235  43700  \n",
       "\n",
       "[935 rows x 9 columns]"
      ]
     },
     "execution_count": 3,
     "metadata": {},
     "output_type": "execute_result"
    }
   ],
   "source": [
    "avti.sort_values(\"znamka\")"
   ]
  },
  {
   "cell_type": "markdown",
   "metadata": {},
   "source": [
    "Iz vsakega oglasa smo za dan avtomobil izločili sledeče:\n",
    "- polno ime\n",
    "- znamko\n",
    "- leto prve registracije\n",
    "- stevilo prevozenih kilometrov\n",
    "- vrsto motorja\n",
    "- vrsto menjalnika\n",
    "- velikost motorja\n",
    "- moč motorja\n",
    "- ceno\n",
    "\n",
    "Pri nekaterih avtomobilih ni podanega zapisa o velikosti motorja."
   ]
  },
  {
   "cell_type": "code",
   "execution_count": 4,
   "metadata": {},
   "outputs": [],
   "source": [
    "def popravi_velikost(x):\n",
    "    if x == \"velikost motorja ni znana\":\n",
    "        return np.nan\n",
    "    else:\n",
    "        return x\n",
    "    \n",
    "avti.velikost_motorja = avti.velikost_motorja.apply(popravi_velikost)"
   ]
  },
  {
   "cell_type": "markdown",
   "metadata": {},
   "source": [
    "Popravimo še zapis moči motorja."
   ]
  },
  {
   "cell_type": "code",
   "execution_count": 101,
   "metadata": {
    "scrolled": true
   },
   "outputs": [],
   "source": [
    "def popravi_moc(x):\n",
    "    return int(x)\n",
    "    \n",
    "avti.moc_motorja = avti.moc_motorja.apply(popravi_moc)    "
   ]
  },
  {
   "cell_type": "markdown",
   "metadata": {},
   "source": [
    "## 1. Avto za študenta\n",
    "\n",
    "Denimo da ima študent privarčevanih 1000€ in ga zanima ali si z njimi lahko privošči nakup avtomobila. Ali lahko na spletni strani avto.net najde kaj primernega? "
   ]
  },
  {
   "cell_type": "code",
   "execution_count": 5,
   "metadata": {},
   "outputs": [
    {
     "data": {
      "text/html": [
       "<div>\n",
       "<style scoped>\n",
       "    .dataframe tbody tr th:only-of-type {\n",
       "        vertical-align: middle;\n",
       "    }\n",
       "\n",
       "    .dataframe tbody tr th {\n",
       "        vertical-align: top;\n",
       "    }\n",
       "\n",
       "    .dataframe thead th {\n",
       "        text-align: right;\n",
       "    }\n",
       "</style>\n",
       "<table border=\"1\" class=\"dataframe\">\n",
       "  <thead>\n",
       "    <tr style=\"text-align: right;\">\n",
       "      <th></th>\n",
       "      <th>ime_avtomobila</th>\n",
       "      <th>cena</th>\n",
       "    </tr>\n",
       "  </thead>\n",
       "  <tbody>\n",
       "    <tr>\n",
       "      <th>831</th>\n",
       "      <td>Volkswagen Hroè VW HOT ROD</td>\n",
       "      <td>81</td>\n",
       "    </tr>\n",
       "    <tr>\n",
       "      <th>715</th>\n",
       "      <td>Seat Ibiza</td>\n",
       "      <td>180</td>\n",
       "    </tr>\n",
       "    <tr>\n",
       "      <th>320</th>\n",
       "      <td>Fiat Multipla 1.9 JTD ELX 115</td>\n",
       "      <td>200</td>\n",
       "    </tr>\n",
       "    <tr>\n",
       "      <th>556</th>\n",
       "      <td>Opel Corsa Cosmo 1.4 16V Easytronic</td>\n",
       "      <td>300</td>\n",
       "    </tr>\n",
       "    <tr>\n",
       "      <th>343</th>\n",
       "      <td>Ford Fiesta Flair 1.3</td>\n",
       "      <td>300</td>\n",
       "    </tr>\n",
       "    <tr>\n",
       "      <th>...</th>\n",
       "      <td>...</td>\n",
       "      <td>...</td>\n",
       "    </tr>\n",
       "    <tr>\n",
       "      <th>243</th>\n",
       "      <td>Chevrolet Aveo 1.2 Direct</td>\n",
       "      <td>950</td>\n",
       "    </tr>\n",
       "    <tr>\n",
       "      <th>744</th>\n",
       "      <td>Toyota Avensis W G 2.0 D-4D</td>\n",
       "      <td>990</td>\n",
       "    </tr>\n",
       "    <tr>\n",
       "      <th>441</th>\n",
       "      <td>Mercedes-Benz C-Razred</td>\n",
       "      <td>990</td>\n",
       "    </tr>\n",
       "    <tr>\n",
       "      <th>672</th>\n",
       "      <td>Renault Megane 1.5 dCi</td>\n",
       "      <td>990</td>\n",
       "    </tr>\n",
       "    <tr>\n",
       "      <th>442</th>\n",
       "      <td>Mercedes-Benz C-Razred</td>\n",
       "      <td>990</td>\n",
       "    </tr>\n",
       "  </tbody>\n",
       "</table>\n",
       "<p>78 rows × 2 columns</p>\n",
       "</div>"
      ],
      "text/plain": [
       "                          ime_avtomobila  cena\n",
       "831          Volkswagen Hroè VW HOT ROD    81\n",
       "715                          Seat Ibiza    180\n",
       "320        Fiat Multipla 1.9 JTD ELX 115   200\n",
       "556  Opel Corsa Cosmo 1.4 16V Easytronic   300\n",
       "343                Ford Fiesta Flair 1.3   300\n",
       "..                                   ...   ...\n",
       "243            Chevrolet Aveo 1.2 Direct   950\n",
       "744         Toyota Avensis W G 2.0 D-4D    990\n",
       "441              Mercedes-Benz C-Razred    990\n",
       "672              Renault Megane 1.5 dCi    990\n",
       "442              Mercedes-Benz C-Razred    990\n",
       "\n",
       "[78 rows x 2 columns]"
      ]
     },
     "execution_count": 5,
     "metadata": {},
     "output_type": "execute_result"
    }
   ],
   "source": [
    "studentski_avti = avti[(avti.cena < 1000)]\n",
    "studentski_avti[[\"ime_avtomobila\", \"cena\"]].sort_values([\"cena\"], ascending=[True])"
   ]
  },
  {
   "cell_type": "code",
   "execution_count": 5,
   "metadata": {},
   "outputs": [
    {
     "data": {
      "text/plain": [
       "78"
      ]
     },
     "execution_count": 5,
     "metadata": {},
     "output_type": "execute_result"
    }
   ],
   "source": [
    "studentski_avti.shape[0]"
   ]
  },
  {
   "cell_type": "markdown",
   "metadata": {},
   "source": [
    "Študent torej ima nekaj izbire, natančneje 78 avtov za izbran znesek pod 1000€. Študent se bržkone želi prepričati, da so oglasi poštene narave in so tako starejši avtomobili ugodnejši od novejših."
   ]
  },
  {
   "cell_type": "code",
   "execution_count": 6,
   "metadata": {
    "scrolled": true
   },
   "outputs": [
    {
     "data": {
      "text/plain": [
       "<AxesSubplot:xlabel='leto_prve_registracije'>"
      ]
     },
     "execution_count": 6,
     "metadata": {},
     "output_type": "execute_result"
    },
    {
     "data": {
      "image/png": "[encoded data removed]",
      "text/plain": [
       "<Figure size 432x288 with 1 Axes>"
      ]
     },
     "metadata": {
      "needs_background": "light"
     },
     "output_type": "display_data"
    }
   ],
   "source": [
    "studentski_avti.groupby(\"leto_prve_registracije\").mean()[\"cena\"].plot()"
   ]
  },
  {
   "cell_type": "code",
   "execution_count": 18,
   "metadata": {},
   "outputs": [
    {
     "data": {
      "text/html": [
       "<div>\n",
       "<style scoped>\n",
       "    .dataframe tbody tr th:only-of-type {\n",
       "        vertical-align: middle;\n",
       "    }\n",
       "\n",
       "    .dataframe tbody tr th {\n",
       "        vertical-align: top;\n",
       "    }\n",
       "\n",
       "    .dataframe thead th {\n",
       "        text-align: right;\n",
       "    }\n",
       "</style>\n",
       "<table border=\"1\" class=\"dataframe\">\n",
       "  <thead>\n",
       "    <tr style=\"text-align: right;\">\n",
       "      <th></th>\n",
       "      <th>ime_avtomobila</th>\n",
       "      <th>leto_prve_registracije</th>\n",
       "      <th>cena</th>\n",
       "    </tr>\n",
       "  </thead>\n",
       "  <tbody>\n",
       "    <tr>\n",
       "      <th>808</th>\n",
       "      <td>Volkswagen Golf GL D</td>\n",
       "      <td>1984</td>\n",
       "      <td>800</td>\n",
       "    </tr>\n",
       "  </tbody>\n",
       "</table>\n",
       "</div>"
      ],
      "text/plain": [
       "           ime_avtomobila  leto_prve_registracije  cena\n",
       "808  Volkswagen Golf GL D                    1984   800"
      ]
     },
     "execution_count": 18,
     "metadata": {},
     "output_type": "execute_result"
    }
   ],
   "source": [
    "studentski_avti[(studentski_avti.leto_prve_registracije > 1981) & (studentski_avti.leto_prve_registracije < 1990)][[\"ime_avtomobila\", \"leto_prve_registracije\", \"cena\"]]"
   ]
  },
  {
   "cell_type": "markdown",
   "metadata": {},
   "source": [
    "Večji odmik se pojavi samo pri avtih iz osemdesetih. Ob dodatnem vpogledu lahko vidimo, da je le en primer avtomobila iz tega časovnega obdobja, zato iz tega ne moremo sklepati, da bi bili morda avtomobili iz tega časa več vredni. V povprečju torej velja predpostvaka o korelaciji med starostjo in ceno avtomobilov. "
   ]
  },
  {
   "cell_type": "markdown",
   "metadata": {},
   "source": [
    "Študent si gotovo želi največ več avta za svoj denar. Denimo, da je rojen leta 2000 in si ne želi avtomobila starejšega od sebe. V želji po boljši ohranjenosti pa si ogleduje le avtomobile z manj kot 200 000 prevoženimi kilometri."
   ]
  },
  {
   "cell_type": "code",
   "execution_count": 45,
   "metadata": {
    "scrolled": true
   },
   "outputs": [
    {
     "data": {
      "text/html": [
       "<div>\n",
       "<style scoped>\n",
       "    .dataframe tbody tr th:only-of-type {\n",
       "        vertical-align: middle;\n",
       "    }\n",
       "\n",
       "    .dataframe tbody tr th {\n",
       "        vertical-align: top;\n",
       "    }\n",
       "\n",
       "    .dataframe thead th {\n",
       "        text-align: right;\n",
       "    }\n",
       "</style>\n",
       "<table border=\"1\" class=\"dataframe\">\n",
       "  <thead>\n",
       "    <tr style=\"text-align: right;\">\n",
       "      <th></th>\n",
       "      <th>ime_avtomobila</th>\n",
       "      <th>znamka</th>\n",
       "      <th>leto_prve_registracije</th>\n",
       "      <th>prevozeni_kilometri</th>\n",
       "      <th>vrsta_motorja</th>\n",
       "      <th>vrsta_menjalnika</th>\n",
       "      <th>velikost_motorja</th>\n",
       "      <th>moc_motorja</th>\n",
       "      <th>cena</th>\n",
       "    </tr>\n",
       "  </thead>\n",
       "  <tbody>\n",
       "    <tr>\n",
       "      <th>556</th>\n",
       "      <td>Opel Corsa Cosmo 1.4 16V Easytronic</td>\n",
       "      <td>Opel</td>\n",
       "      <td>2006</td>\n",
       "      <td>105000</td>\n",
       "      <td>bencinski motor</td>\n",
       "      <td>ročni menjalnik</td>\n",
       "      <td>1364</td>\n",
       "      <td>66</td>\n",
       "      <td>300</td>\n",
       "    </tr>\n",
       "    <tr>\n",
       "      <th>577</th>\n",
       "      <td>Peugeot 106 XN Pack</td>\n",
       "      <td>Peugeot</td>\n",
       "      <td>2001</td>\n",
       "      <td>110000</td>\n",
       "      <td>bencinski motor</td>\n",
       "      <td>ročni menjalnik</td>\n",
       "      <td>1124</td>\n",
       "      <td>44</td>\n",
       "      <td>505</td>\n",
       "    </tr>\n",
       "    <tr>\n",
       "      <th>303</th>\n",
       "      <td>Citroen Xsara 2.0 HDi Exclusive</td>\n",
       "      <td>Citroen</td>\n",
       "      <td>2003</td>\n",
       "      <td>195600</td>\n",
       "      <td>diesel motor</td>\n",
       "      <td>ročni menjalnik</td>\n",
       "      <td>1997</td>\n",
       "      <td>66</td>\n",
       "      <td>530</td>\n",
       "    </tr>\n",
       "    <tr>\n",
       "      <th>552</th>\n",
       "      <td>Opel Corsa Comfort 1.2 16V Easytronic prvilast...</td>\n",
       "      <td>Opel</td>\n",
       "      <td>2002</td>\n",
       "      <td>128000</td>\n",
       "      <td>bencinski motor</td>\n",
       "      <td>ročni menjalnik</td>\n",
       "      <td>1199</td>\n",
       "      <td>55</td>\n",
       "      <td>550</td>\n",
       "    </tr>\n",
       "    <tr>\n",
       "      <th>553</th>\n",
       "      <td>Opel Corsa Comfort 1.2 16V prvi lastnik samo12...</td>\n",
       "      <td>Opel</td>\n",
       "      <td>2002</td>\n",
       "      <td>128000</td>\n",
       "      <td>bencinski motor</td>\n",
       "      <td>ročni menjalnik</td>\n",
       "      <td>1199</td>\n",
       "      <td>55</td>\n",
       "      <td>550</td>\n",
       "    </tr>\n",
       "    <tr>\n",
       "      <th>...</th>\n",
       "      <td>...</td>\n",
       "      <td>...</td>\n",
       "      <td>...</td>\n",
       "      <td>...</td>\n",
       "      <td>...</td>\n",
       "      <td>...</td>\n",
       "      <td>...</td>\n",
       "      <td>...</td>\n",
       "      <td>...</td>\n",
       "    </tr>\n",
       "    <tr>\n",
       "      <th>822</th>\n",
       "      <td>Volkswagen Golf Variant 2.0 TDI BMT Highline D...</td>\n",
       "      <td>Volkswagen</td>\n",
       "      <td>2014</td>\n",
       "      <td>175532</td>\n",
       "      <td>diesel motor</td>\n",
       "      <td>avtomatski menjalnik</td>\n",
       "      <td>1968</td>\n",
       "      <td>110</td>\n",
       "      <td>800</td>\n",
       "    </tr>\n",
       "    <tr>\n",
       "      <th>759</th>\n",
       "      <td>Toyota Yaris 1.3 VVT-i Sol</td>\n",
       "      <td>Toyota</td>\n",
       "      <td>2003</td>\n",
       "      <td>184000</td>\n",
       "      <td>bencinski motor</td>\n",
       "      <td>ročni menjalnik</td>\n",
       "      <td>1298</td>\n",
       "      <td>64</td>\n",
       "      <td>850</td>\n",
       "    </tr>\n",
       "    <tr>\n",
       "      <th>324</th>\n",
       "      <td>Fiat Punto 1.2 16V Dynamic</td>\n",
       "      <td>Fiat</td>\n",
       "      <td>2004</td>\n",
       "      <td>183000</td>\n",
       "      <td>bencinski motor</td>\n",
       "      <td>ročni menjalnik</td>\n",
       "      <td>1242</td>\n",
       "      <td>59</td>\n",
       "      <td>850</td>\n",
       "    </tr>\n",
       "    <tr>\n",
       "      <th>545</th>\n",
       "      <td>Opel Corsa</td>\n",
       "      <td>Opel</td>\n",
       "      <td>2006</td>\n",
       "      <td>190000</td>\n",
       "      <td>bencinski motor</td>\n",
       "      <td>ročni menjalnik</td>\n",
       "      <td>1229</td>\n",
       "      <td>59</td>\n",
       "      <td>900</td>\n",
       "    </tr>\n",
       "    <tr>\n",
       "      <th>243</th>\n",
       "      <td>Chevrolet Aveo 1.2 Direct</td>\n",
       "      <td>Chevrolet</td>\n",
       "      <td>2006</td>\n",
       "      <td>50062</td>\n",
       "      <td>bencinski motor</td>\n",
       "      <td>ročni menjalnik</td>\n",
       "      <td>1150</td>\n",
       "      <td>53</td>\n",
       "      <td>950</td>\n",
       "    </tr>\n",
       "  </tbody>\n",
       "</table>\n",
       "<p>18 rows × 9 columns</p>\n",
       "</div>"
      ],
      "text/plain": [
       "                                        ime_avtomobila      znamka  \\\n",
       "556                Opel Corsa Cosmo 1.4 16V Easytronic        Opel   \n",
       "577                                Peugeot 106 XN Pack     Peugeot   \n",
       "303                    Citroen Xsara 2.0 HDi Exclusive     Citroen   \n",
       "552  Opel Corsa Comfort 1.2 16V Easytronic prvilast...        Opel   \n",
       "553  Opel Corsa Comfort 1.2 16V prvi lastnik samo12...        Opel   \n",
       "..                                                 ...         ...   \n",
       "822  Volkswagen Golf Variant 2.0 TDI BMT Highline D...  Volkswagen   \n",
       "759                         Toyota Yaris 1.3 VVT-i Sol      Toyota   \n",
       "324                         Fiat Punto 1.2 16V Dynamic        Fiat   \n",
       "545                                        Opel Corsa         Opel   \n",
       "243                          Chevrolet Aveo 1.2 Direct   Chevrolet   \n",
       "\n",
       "     leto_prve_registracije  prevozeni_kilometri    vrsta_motorja  \\\n",
       "556                    2006               105000  bencinski motor   \n",
       "577                    2001               110000  bencinski motor   \n",
       "303                    2003               195600     diesel motor   \n",
       "552                    2002               128000  bencinski motor   \n",
       "553                    2002               128000  bencinski motor   \n",
       "..                      ...                  ...              ...   \n",
       "822                    2014               175532     diesel motor   \n",
       "759                    2003               184000  bencinski motor   \n",
       "324                    2004               183000  bencinski motor   \n",
       "545                    2006               190000  bencinski motor   \n",
       "243                    2006                50062  bencinski motor   \n",
       "\n",
       "         vrsta_menjalnika velikost_motorja moc_motorja  cena  \n",
       "556       ročni menjalnik             1364          66   300  \n",
       "577       ročni menjalnik             1124          44   505  \n",
       "303       ročni menjalnik             1997          66   530  \n",
       "552       ročni menjalnik             1199          55   550  \n",
       "553       ročni menjalnik             1199          55   550  \n",
       "..                    ...              ...         ...   ...  \n",
       "822  avtomatski menjalnik             1968         110   800  \n",
       "759       ročni menjalnik             1298          64   850  \n",
       "324       ročni menjalnik             1242          59   850  \n",
       "545       ročni menjalnik             1229          59   900  \n",
       "243       ročni menjalnik             1150          53   950  \n",
       "\n",
       "[18 rows x 9 columns]"
      ]
     },
     "execution_count": 45,
     "metadata": {},
     "output_type": "execute_result"
    }
   ],
   "source": [
    "boljsa_studentska_izbira = studentski_avti[(studentski_avti.leto_prve_registracije > 2000) & (studentski_avti.prevozeni_kilometri < 200000)]\n",
    "boljsa_studentska_izbira.sort_values([\"cena\", \"leto_prve_registracije\"], ascending=[True, True])"
   ]
  },
  {
   "cell_type": "code",
   "execution_count": 103,
   "metadata": {
    "scrolled": false
   },
   "outputs": [
    {
     "data": {
      "text/plain": [
       "<AxesSubplot:xlabel='znamka'>"
      ]
     },
     "execution_count": 103,
     "metadata": {},
     "output_type": "execute_result"
    },
    {
     "data": {
      "image/png": "[encoded data removed]",
      "text/plain": [
       "<Figure size 432x288 with 1 Axes>"
      ]
     },
     "metadata": {
      "needs_background": "light"
     },
     "output_type": "display_data"
    }
   ],
   "source": [
    "boljsa_studentska_izbira.groupby(\"znamka\").mean().sort_values(\"cena\", ascending=[False]).plot.bar(y=\"cena\")"
   ]
  },
  {
   "cell_type": "code",
   "execution_count": 80,
   "metadata": {},
   "outputs": [
    {
     "data": {
      "text/plain": [
       "10"
      ]
     },
     "execution_count": 80,
     "metadata": {},
     "output_type": "execute_result"
    }
   ],
   "source": [
    "boljsa_studentska_izbira.znamka.nunique()"
   ]
  },
  {
   "cell_type": "markdown",
   "metadata": {},
   "source": [
    "Ob teh pogojih ima študent na voljo osemnajst avtomobilov desetih znamk. Pri tem se bo finančno rezerviran študent odločil za Citroena, Chevrolet pa bo izbira tistega, ki ima nekoliko več denarja. \n",
    "\n",
    "Poglejmo si še kakšen je povprečen avto, ki ga lahko pričakuje kupec za manj kot 1000€.\n",
    "TODO"
   ]
  },
  {
   "cell_type": "code",
   "execution_count": 20,
   "metadata": {},
   "outputs": [
    {
     "data": {
      "text/plain": [
       "2      340000\n",
       "5      363524\n",
       "15     245000\n",
       "35     150300\n",
       "82     269000\n",
       "        ...  \n",
       "808    200000\n",
       "822    175532\n",
       "831     51000\n",
       "837    321000\n",
       "858    300000\n",
       "Name: prevozeni_kilometri, Length: 78, dtype: int64"
      ]
     },
     "execution_count": 20,
     "metadata": {},
     "output_type": "execute_result"
    }
   ],
   "source": [
    "    "
   ]
  },
  {
   "cell_type": "markdown",
   "metadata": {},
   "source": [
    "## 2. Primerjava bencin/dizel\n",
    "\n",
    "Ob nakupu avtomobila se lahko izbere različne vrste motorja. Včasih je bil v uporabi predvsem bencinski motor, v zadnjih desetletjih pa se mu je na vrhu lestvice popularnosti pridružil dizelski motor. Na trgu so tudi druge različice, kot na primer avtomobili na električni pogon in pa hibridna vozila, a so le te vsaj zankrat v manjšini."
   ]
  },
  {
   "cell_type": "code",
   "execution_count": 6,
   "metadata": {
    "scrolled": false
   },
   "outputs": [
    {
     "data": {
      "text/plain": [
       "<AxesSubplot:xlabel='vrsta_motorja'>"
      ]
     },
     "execution_count": 6,
     "metadata": {},
     "output_type": "execute_result"
    },
    {
     "data": {
      "image/png": "[encoded data removed]",
      "text/plain": [
       "<Figure size 432x288 with 1 Axes>"
      ]
     },
     "metadata": {
      "needs_background": "light"
     },
     "output_type": "display_data"
    }
   ],
   "source": [
    "avtomobili_motor = avti.groupby(\"vrsta_motorja\")\n",
    "avtomobili_motor.size().plot.bar(x=\"vrsta_motorja\", y=avtomobili_motor.size())"
   ]
  },
  {
   "cell_type": "markdown",
   "metadata": {},
   "source": [
    "V skladu z zgoraj napisanim so tudi rabljeni avtomobili na [avto.net](https://www.avto.net/) v večini primerov opremljeni bodisi z bencinskim bodisi z dizlovim motorjem, ki ga ima največ avtomobilov. Posledično je smiselno ti dve vrsti motorja primerjati in se vprašati, kateri motor je za kupca boljša izbira.\n",
    "Dizelski motor je v primerjavi z bencinskim smatran za primernejšega za daljše razdalje, veliko prevoženih kilometrov in običajno velja za nekoliko dražjega. Dolgi kilometri na cesti naj bi se bolj izplačali z dizlovim motorjem, saj je za dizel ponavadi potrebno odšteti precej manj kot za bencin. Potrebno pa je omeniti, da je v času posledic ki jih je Covid-19 pustil na svetovnom gospodarstvu, ta razlika v ceni zanemarljiva oziroma je bencin še cenejši (1,074€ / 1,124€ - iz dne 2.2.2021, vir: [AMZS](https://www.amzs.si/na-poti/cene-goriv-po-evropi)). Na ceno dizla močno vpliva tudi okoljevarstvena politika, a se v to ne bomo spuščali, saj to ni tema tukajšnje analize.\n",
    "\n",
    "Primerjajmo torej rabljene avtomobile z dizlovim in bencinskim motorjem, ki jih je moč kupiti na [avto.net](https://www.avto.net/Ads/results.asp?znamka=&model=&modelID=&tip=&znamka2=&model2=&tip2=&znamka3=&model3=&tip3=&cenaMin=0&cenaMax=999999&letnikMin=0&letnikMax=2090&bencin=0&starost2=999&oblika=&ccmMin=0&ccmMax=99999&mocMin=&mocMax=&kmMin=0&kmMax=9999999&kwMin=0&kwMax=999&motortakt=&motorvalji=&lokacija=0&sirina=&dolzina=&dolzinaMIN=&dolzinaMAX=&nosilnostMIN=&nosilnostMAX=&lezisc=&presek=&premer=&col=&vijakov=&EToznaka=&vozilo=&airbag=&barva=&barvaint=&EQ1=1000000000&EQ2=1000000000&EQ3=1000000000&EQ4=100000000&EQ5=1000000000&EQ6=1000000000&EQ7=1000100020&EQ8=1010000001&EQ9=100000000&KAT=1010000000&PIA=&PIAzero=&PSLO=&akcija=&paketgarancije=0&broker=&prikazkategorije=&kategorija=&ONLvid=&ONLnak=&zaloga=10&arhiv=&presort=&tipsort=&stran=)."
   ]
  },
  {
   "cell_type": "markdown",
   "metadata": {},
   "source": [
    "Za začetek si oglejmo povprečno ceno avta glede na motor."
   ]
  },
  {
   "cell_type": "code",
   "execution_count": 152,
   "metadata": {
    "scrolled": false
   },
   "outputs": [
    {
     "data": {
      "text/plain": [
       "<AxesSubplot:xlabel='vrsta_motorja'>"
      ]
     },
     "execution_count": 152,
     "metadata": {},
     "output_type": "execute_result"
    },
    {
     "data": {
      "image/png": "[encoded data removed]",
      "text/plain": [
       "<Figure size 432x288 with 1 Axes>"
      ]
     },
     "metadata": {
      "needs_background": "light"
     },
     "output_type": "display_data"
    }
   ],
   "source": [
    "izbrana_motorja = avti[(avti.vrsta_motorja == \"bencinski motor\") | (avti.vrsta_motorja == \"diesel motor\")].groupby(\"vrsta_motorja\")\n",
    "izbrana_motorja.cena.mean().round().plot.bar(x = \"vrsta_motorja\", y = izbrana_motorja.cena)"
   ]
  },
  {
   "cell_type": "markdown",
   "metadata": {},
   "source": [
    "Podajmo še primerjavo glede na povprečno prevoženo razdaljo v kilometrih."
   ]
  },
  {
   "cell_type": "code",
   "execution_count": 155,
   "metadata": {
    "scrolled": true
   },
   "outputs": [
    {
     "data": {
      "text/plain": [
       "<AxesSubplot:xlabel='vrsta_motorja'>"
      ]
     },
     "execution_count": 155,
     "metadata": {},
     "output_type": "execute_result"
    },
    {
     "data": {
      "image/png": "[encoded data removed]",
      "text/plain": [
       "<Figure size 432x288 with 1 Axes>"
      ]
     },
     "metadata": {
      "needs_background": "light"
     },
     "output_type": "display_data"
    }
   ],
   "source": [
    "izbrana_motorja.prevozeni_kilometri.mean().round().plot.bar(x = \"vrsta_motorja\", y = izbrana_motorja.prevozeni_kilometri)"
   ]
  },
  {
   "cell_type": "markdown",
   "metadata": {},
   "source": [
    "Na zadnje dodajmo še primerjavo povprečnih starosti avtomobilov (oz. leto registracije) glede na motor."
   ]
  },
  {
   "cell_type": "code",
   "execution_count": 163,
   "metadata": {
    "scrolled": true
   },
   "outputs": [
    {
     "data": {
      "text/plain": [
       "<AxesSubplot:xlabel='vrsta_motorja'>"
      ]
     },
     "execution_count": 163,
     "metadata": {},
     "output_type": "execute_result"
    },
    {
     "data": {
      "image/png": "[encoded data removed]",
      "text/plain": [
       "<Figure size 432x288 with 1 Axes>"
      ]
     },
     "metadata": {
      "needs_background": "light"
     },
     "output_type": "display_data"
    }
   ],
   "source": [
    "izbrana_motorja.leto_prve_registracije.mean().round().plot.bar(x = \"vrsta_motorja\", y = izbrana_motorja.leto_prve_registracije, ylim=(2000, 2012))"
   ]
  },
  {
   "cell_type": "markdown",
   "metadata": {},
   "source": [
    "Kot vidimo iz grafov predpostavke o ceni in prevoženi razdalji držijo. Prav tako lahko vidimo, da so bencinski avtomobili v povprečju starejši, kar lahko pripišemo popularizaciji dizlovih motorjev v zadnjem desetletju.\n",
    "\n",
    "Očitno opazimo, da je razlika v povprečni ceni med motorjema ogromna, skoraj dvakratna, zato je smotrno upoštevati še dodatne parametre, ki igrajo vlogo pri gibanju cen in s tem dobiti realnejšo sliko o cenovni razliki med \"bencincem\" in \"dizlom\". To so vrsta menjalnika, velikost in moč motorja, število prevoženih kilometrov in pa seveda starost avtomobila, ki jo bomo za potrebe analize enačili s pretečenim časom od prve registracije."
   ]
  },
  {
   "cell_type": "markdown",
   "metadata": {},
   "source": [
    "## 3. Najugodnejša znamka"
   ]
  },
  {
   "cell_type": "markdown",
   "metadata": {},
   "source": [
    "Želimo ugotoviti, katera znamka novejših avtomobilov je cenovno ugodnejša, upoštevajoč število prevoženih kilometrov.\n",
    "\n",
    "Najprej si poglejmo povprečno cenovno sliko.\n"
   ]
  },
  {
   "cell_type": "code",
   "execution_count": 8,
   "metadata": {
    "scrolled": true
   },
   "outputs": [
    {
     "data": {
      "text/plain": [
       "<AxesSubplot:xlabel='znamka'>"
      ]
     },
     "execution_count": 8,
     "metadata": {},
     "output_type": "execute_result"
    },
    {
     "data": {
      "image/png": "[encoded data removed]",
      "text/plain": [
       "<Figure size 432x288 with 1 Axes>"
      ]
     },
     "metadata": {
      "needs_background": "light"
     },
     "output_type": "display_data"
    }
   ],
   "source": [
    "novejsi_avti = avti[avti.leto_prve_registracije > 2016]\n",
    "novejsi_avti.groupby(\"znamka\").mean()[\"cena\"].sort_values(ascending=[False]).plot.bar()"
   ]
  },
  {
   "cell_type": "markdown",
   "metadata": {},
   "source": [
    "Pričakovano so tudi med rabljenimi avti-starimi manj kot 5 let-najdražje nekatere elitne firme, kot na primer BMW, Mercedes-Benz, Land-Rover in Porsche, med cenovno ugodnejšimi pa najdemo znamke kot so Mitsubishi, Suzuki, Citroen, Fiat ipd. "
   ]
  },
  {
   "cell_type": "code",
   "execution_count": 98,
   "metadata": {
    "scrolled": true
   },
   "outputs": [
    {
     "data": {
      "text/plain": [
       "<AxesSubplot:xlabel='prevozeni_kilometri', ylabel='cena'>"
      ]
     },
     "execution_count": 98,
     "metadata": {},
     "output_type": "execute_result"
    },
    {
     "data": {
      "image/png": "[encoded data removed]",
      "text/plain": [
       "<Figure size 432x288 with 1 Axes>"
      ]
     },
     "metadata": {
      "needs_background": "light"
     },
     "output_type": "display_data"
    }
   ],
   "source": [
    "novejsi_avti.plot.scatter(x = \"prevozeni_kilometri\", y = \"cena\")"
   ]
  },
  {
   "cell_type": "markdown",
   "metadata": {},
   "source": [
    "Prevožena razdalja vpliva na ceno avtomobila, zato jo bomo upoštevali pri primerjavi cen različnih znamk. Definirajmo ugodnost nakupa avtomobila glede na razmerje med prevozenimi kilometri in ceno."
   ]
  },
  {
   "cell_type": "code",
   "execution_count": 10,
   "metadata": {},
   "outputs": [],
   "source": [
    "avti[\"ugodnost\"] = (10 ** 10) / (avti.prevozeni_kilometri * avti.cena)"
   ]
  },
  {
   "cell_type": "code",
   "execution_count": 27,
   "metadata": {},
   "outputs": [
    {
     "data": {
      "text/html": [
       "<div>\n",
       "<style scoped>\n",
       "    .dataframe tbody tr th:only-of-type {\n",
       "        vertical-align: middle;\n",
       "    }\n",
       "\n",
       "    .dataframe tbody tr th {\n",
       "        vertical-align: top;\n",
       "    }\n",
       "\n",
       "    .dataframe thead th {\n",
       "        text-align: right;\n",
       "    }\n",
       "</style>\n",
       "<table border=\"1\" class=\"dataframe\">\n",
       "  <thead>\n",
       "    <tr style=\"text-align: right;\">\n",
       "      <th></th>\n",
       "      <th>ime_avtomobila</th>\n",
       "      <th>znamka</th>\n",
       "      <th>ugodnost</th>\n",
       "    </tr>\n",
       "  </thead>\n",
       "  <tbody>\n",
       "    <tr>\n",
       "      <th>709</th>\n",
       "      <td>Renault Twingo SCe 70°°samo 7.500 km°°1.lastnik°°</td>\n",
       "      <td>Renault</td>\n",
       "      <td>222.259265</td>\n",
       "    </tr>\n",
       "    <tr>\n",
       "      <th>488</th>\n",
       "      <td>Mercedes-Benz GLC coupe GLC Coupé 220 d 4MATIC...</td>\n",
       "      <td>Mercedes-Benz</td>\n",
       "      <td>169.402517</td>\n",
       "    </tr>\n",
       "    <tr>\n",
       "      <th>762</th>\n",
       "      <td>Toyota Yaris 1.5 VVT-iE Sol</td>\n",
       "      <td>Toyota</td>\n",
       "      <td>147.333991</td>\n",
       "    </tr>\n",
       "    <tr>\n",
       "      <th>738</th>\n",
       "      <td>Suzuki Ignis 1.2 VVT Hybrid Comfort</td>\n",
       "      <td>Suzuki</td>\n",
       "      <td>129.442717</td>\n",
       "    </tr>\n",
       "    <tr>\n",
       "      <th>708</th>\n",
       "      <td>Renault Twingo SCe 70 Limited-samo 11500km-nav...</td>\n",
       "      <td>Renault</td>\n",
       "      <td>105.529759</td>\n",
       "    </tr>\n",
       "    <tr>\n",
       "      <th>...</th>\n",
       "      <td>...</td>\n",
       "      <td>...</td>\n",
       "      <td>...</td>\n",
       "    </tr>\n",
       "    <tr>\n",
       "      <th>122</th>\n",
       "      <td>BMW M5 xDrive Avt.-KARBON-DVD-LED-20COL-KAMERA...</td>\n",
       "      <td>BMW</td>\n",
       "      <td>1.709592</td>\n",
       "    </tr>\n",
       "    <tr>\n",
       "      <th>233</th>\n",
       "      <td>BMW serija X5: xDrive40d Avt.M.PAKET.LED.ACC.K...</td>\n",
       "      <td>BMW</td>\n",
       "      <td>1.695863</td>\n",
       "    </tr>\n",
       "    <tr>\n",
       "      <th>621</th>\n",
       "      <td>Porsche Cayenne 3.0 D V6-LED-PARK-PANORAMA-USN...</td>\n",
       "      <td>Porsche</td>\n",
       "      <td>1.678272</td>\n",
       "    </tr>\n",
       "    <tr>\n",
       "      <th>234</th>\n",
       "      <td>BMW serija X5: xDrive40e Avt.</td>\n",
       "      <td>BMW</td>\n",
       "      <td>1.159319</td>\n",
       "    </tr>\n",
       "    <tr>\n",
       "      <th>623</th>\n",
       "      <td>Porsche Panamera 4.0 V8 4S-SPORT DESIGN-CHRONO...</td>\n",
       "      <td>Porsche</td>\n",
       "      <td>0.946569</td>\n",
       "    </tr>\n",
       "  </tbody>\n",
       "</table>\n",
       "<p>137 rows × 3 columns</p>\n",
       "</div>"
      ],
      "text/plain": [
       "                                        ime_avtomobila         znamka  \\\n",
       "709  Renault Twingo SCe 70°°samo 7.500 km°°1.lastnik°°        Renault   \n",
       "488  Mercedes-Benz GLC coupe GLC Coupé 220 d 4MATIC...  Mercedes-Benz   \n",
       "762                        Toyota Yaris 1.5 VVT-iE Sol         Toyota   \n",
       "738                Suzuki Ignis 1.2 VVT Hybrid Comfort         Suzuki   \n",
       "708  Renault Twingo SCe 70 Limited-samo 11500km-nav...        Renault   \n",
       "..                                                 ...            ...   \n",
       "122  BMW M5 xDrive Avt.-KARBON-DVD-LED-20COL-KAMERA...            BMW   \n",
       "233  BMW serija X5: xDrive40d Avt.M.PAKET.LED.ACC.K...            BMW   \n",
       "621  Porsche Cayenne 3.0 D V6-LED-PARK-PANORAMA-USN...        Porsche   \n",
       "234                      BMW serija X5: xDrive40e Avt.            BMW   \n",
       "623  Porsche Panamera 4.0 V8 4S-SPORT DESIGN-CHRONO...        Porsche   \n",
       "\n",
       "       ugodnost  \n",
       "709  222.259265  \n",
       "488  169.402517  \n",
       "762  147.333991  \n",
       "738  129.442717  \n",
       "708  105.529759  \n",
       "..          ...  \n",
       "122    1.709592  \n",
       "233    1.695863  \n",
       "621    1.678272  \n",
       "234    1.159319  \n",
       "623    0.946569  \n",
       "\n",
       "[137 rows x 3 columns]"
      ]
     },
     "execution_count": 27,
     "metadata": {},
     "output_type": "execute_result"
    }
   ],
   "source": [
    "novejsi_avti.sort_values(\"ugodnost\", ascending = [False] )[[\"ime_avtomobila\", \"znamka\", \"ugodnost\"]]"
   ]
  },
  {
   "cell_type": "code",
   "execution_count": 109,
   "metadata": {},
   "outputs": [
    {
     "data": {
      "text/plain": [
       "<AxesSubplot:xlabel='znamka'>"
      ]
     },
     "execution_count": 109,
     "metadata": {},
     "output_type": "execute_result"
    },
    {
     "data": {
      "image/png": "[encoded data removed]",
      "text/plain": [
       "<Figure size 432x288 with 1 Axes>"
      ]
     },
     "metadata": {
      "needs_background": "light"
     },
     "output_type": "display_data"
    }
   ],
   "source": [
    "novejsi_avti.groupby(\"znamka\").mean().sort_values(\"ugodnost\", ascending=[False]).ugodnost.plot.bar()"
   ]
  },
  {
   "cell_type": "code",
   "execution_count": 120,
   "metadata": {},
   "outputs": [
    {
     "data": {
      "text/html": [
       "<div>\n",
       "<style scoped>\n",
       "    .dataframe tbody tr th:only-of-type {\n",
       "        vertical-align: middle;\n",
       "    }\n",
       "\n",
       "    .dataframe tbody tr th {\n",
       "        vertical-align: top;\n",
       "    }\n",
       "\n",
       "    .dataframe thead th {\n",
       "        text-align: right;\n",
       "    }\n",
       "</style>\n",
       "<table border=\"1\" class=\"dataframe\">\n",
       "  <thead>\n",
       "    <tr style=\"text-align: right;\">\n",
       "      <th></th>\n",
       "      <th>ugodnost</th>\n",
       "    </tr>\n",
       "    <tr>\n",
       "      <th>znamka</th>\n",
       "      <th></th>\n",
       "    </tr>\n",
       "  </thead>\n",
       "  <tbody>\n",
       "    <tr>\n",
       "      <th>Suzuki</th>\n",
       "      <td>129.442717</td>\n",
       "    </tr>\n",
       "    <tr>\n",
       "      <th>Mitsubishi</th>\n",
       "      <td>63.522998</td>\n",
       "    </tr>\n",
       "    <tr>\n",
       "      <th>Toyota</th>\n",
       "      <td>53.756216</td>\n",
       "    </tr>\n",
       "    <tr>\n",
       "      <th>Renault</th>\n",
       "      <td>48.249816</td>\n",
       "    </tr>\n",
       "    <tr>\n",
       "      <th>Citroen</th>\n",
       "      <td>45.017061</td>\n",
       "    </tr>\n",
       "  </tbody>\n",
       "</table>\n",
       "</div>"
      ],
      "text/plain": [
       "              ugodnost\n",
       "znamka                \n",
       "Suzuki      129.442717\n",
       "Mitsubishi   63.522998\n",
       "Toyota       53.756216\n",
       "Renault      48.249816\n",
       "Citroen      45.017061"
      ]
     },
     "execution_count": 120,
     "metadata": {},
     "output_type": "execute_result"
    }
   ],
   "source": [
    "novejsi_avti.groupby(\"znamka\").mean().sort_values(\"ugodnost\", ascending=[False])[[\"ugodnost\"]].head(5)"
   ]
  },
  {
   "cell_type": "code",
   "execution_count": 121,
   "metadata": {},
   "outputs": [
    {
     "data": {
      "text/html": [
       "<div>\n",
       "<style scoped>\n",
       "    .dataframe tbody tr th:only-of-type {\n",
       "        vertical-align: middle;\n",
       "    }\n",
       "\n",
       "    .dataframe tbody tr th {\n",
       "        vertical-align: top;\n",
       "    }\n",
       "\n",
       "    .dataframe thead th {\n",
       "        text-align: right;\n",
       "    }\n",
       "</style>\n",
       "<table border=\"1\" class=\"dataframe\">\n",
       "  <thead>\n",
       "    <tr style=\"text-align: right;\">\n",
       "      <th></th>\n",
       "      <th>ugodnost</th>\n",
       "    </tr>\n",
       "    <tr>\n",
       "      <th>znamka</th>\n",
       "      <th></th>\n",
       "    </tr>\n",
       "  </thead>\n",
       "  <tbody>\n",
       "    <tr>\n",
       "      <th>Volkswagen</th>\n",
       "      <td>4.895285</td>\n",
       "    </tr>\n",
       "    <tr>\n",
       "      <th>Volvo</th>\n",
       "      <td>3.924768</td>\n",
       "    </tr>\n",
       "    <tr>\n",
       "      <th>Land</th>\n",
       "      <td>3.699593</td>\n",
       "    </tr>\n",
       "    <tr>\n",
       "      <th>BMW</th>\n",
       "      <td>3.404770</td>\n",
       "    </tr>\n",
       "    <tr>\n",
       "      <th>Porsche</th>\n",
       "      <td>1.312420</td>\n",
       "    </tr>\n",
       "  </tbody>\n",
       "</table>\n",
       "</div>"
      ],
      "text/plain": [
       "            ugodnost\n",
       "znamka              \n",
       "Volkswagen  4.895285\n",
       "Volvo       3.924768\n",
       "Land        3.699593\n",
       "BMW         3.404770\n",
       "Porsche     1.312420"
      ]
     },
     "execution_count": 121,
     "metadata": {},
     "output_type": "execute_result"
    }
   ],
   "source": [
    "novejsi_avti.groupby(\"znamka\").mean().sort_values(\"ugodnost\", ascending=[False])[[\"ugodnost\"]].tail(5)"
   ]
  },
  {
   "cell_type": "markdown",
   "metadata": {},
   "source": [
    "Komentirajmo dobljeno. Suzuki je po našem merilu ugodnosti zagotovo najboljša izbira. Kot kaže ga je v vrh izstrelilo prav zelo nizko povprečno število prevoženih kilometrov, saj v tabeli cene po znamkah vidimo, da ni absolutno najcenejša izbira. \n",
    "\n",
    "Med ugodnejšimi avtomobili, navkljub upoštevanju prevoženih kilometrov, najdemo znamke z nižjo ceno npr. Suzuki, Mitsubishi, Renault, med manj ugodnimi pa so tisti z visoko ceno, BMW, Land-Rover, Porsche. Na njihovo ugodnost torej prevožena razdalja ni močno vplivala. Hkrati lahko opazimo, da pride med grafoma znamke/cena in znamke/ugodnost do razlik. To so tisti avtomobili pri katerih stevilo opravljenih kilometrov igra večjo vlogo pri ugodnosti. Toyota denimo, ki je cenovno nekje v povprečju, se pri ugodnosti povzpne na tretje mesto. Mercedes - Benz, ki je seveda dražji rang avtomobila, pa pri ugodnosti pade v sredino.\n",
    "\n",
    "Za konec si poglejmo še najugodnejše znamke in primer avtomobila na primeru kupca, ki išče srednje rabljen novejši avto z ročnim menjalnikom. \n"
   ]
  },
  {
   "cell_type": "code",
   "execution_count": 146,
   "metadata": {},
   "outputs": [
    {
     "data": {
      "text/html": [
       "<div>\n",
       "<style scoped>\n",
       "    .dataframe tbody tr th:only-of-type {\n",
       "        vertical-align: middle;\n",
       "    }\n",
       "\n",
       "    .dataframe tbody tr th {\n",
       "        vertical-align: top;\n",
       "    }\n",
       "\n",
       "    .dataframe thead th {\n",
       "        text-align: right;\n",
       "    }\n",
       "</style>\n",
       "<table border=\"1\" class=\"dataframe\">\n",
       "  <thead>\n",
       "    <tr style=\"text-align: right;\">\n",
       "      <th></th>\n",
       "      <th>ugodnost</th>\n",
       "    </tr>\n",
       "    <tr>\n",
       "      <th>znamka</th>\n",
       "      <th></th>\n",
       "    </tr>\n",
       "  </thead>\n",
       "  <tbody>\n",
       "    <tr>\n",
       "      <th>Suzuki</th>\n",
       "      <td>129.442717</td>\n",
       "    </tr>\n",
       "    <tr>\n",
       "      <th>Toyota</th>\n",
       "      <td>78.253310</td>\n",
       "    </tr>\n",
       "    <tr>\n",
       "      <th>Mitsubishi</th>\n",
       "      <td>63.522998</td>\n",
       "    </tr>\n",
       "    <tr>\n",
       "      <th>Renault</th>\n",
       "      <td>62.201675</td>\n",
       "    </tr>\n",
       "    <tr>\n",
       "      <th>Mercedes-Benz</th>\n",
       "      <td>50.189145</td>\n",
       "    </tr>\n",
       "  </tbody>\n",
       "</table>\n",
       "</div>"
      ],
      "text/plain": [
       "                 ugodnost\n",
       "znamka                   \n",
       "Suzuki         129.442717\n",
       "Toyota          78.253310\n",
       "Mitsubishi      63.522998\n",
       "Renault         62.201675\n",
       "Mercedes-Benz   50.189145"
      ]
     },
     "execution_count": 146,
     "metadata": {},
     "output_type": "execute_result"
    }
   ],
   "source": [
    "najugodnejsi = novejsi_avti[(novejsi_avti.prevozeni_kilometri < 200001) & (novejsi_avti.vrsta_menjalnika == \"ročni menjalnik\")]\n",
    "najugodnejsi.groupby(\"znamka\").mean().sort_values(\"ugodnost\", ascending=[False])[[\"ugodnost\"]].head(5)"
   ]
  },
  {
   "cell_type": "code",
   "execution_count": 154,
   "metadata": {
    "scrolled": true
   },
   "outputs": [
    {
     "data": {
      "text/html": [
       "<div>\n",
       "<style scoped>\n",
       "    .dataframe tbody tr th:only-of-type {\n",
       "        vertical-align: middle;\n",
       "    }\n",
       "\n",
       "    .dataframe tbody tr th {\n",
       "        vertical-align: top;\n",
       "    }\n",
       "\n",
       "    .dataframe thead th {\n",
       "        text-align: right;\n",
       "    }\n",
       "</style>\n",
       "<table border=\"1\" class=\"dataframe\">\n",
       "  <thead>\n",
       "    <tr style=\"text-align: right;\">\n",
       "      <th></th>\n",
       "      <th>ime_avtomobila</th>\n",
       "      <th>znamka</th>\n",
       "      <th>leto_prve_registracije</th>\n",
       "      <th>prevozeni_kilometri</th>\n",
       "      <th>vrsta_motorja</th>\n",
       "      <th>vrsta_menjalnika</th>\n",
       "      <th>velikost_motorja</th>\n",
       "      <th>moc_motorja</th>\n",
       "      <th>cena</th>\n",
       "      <th>ugodnost</th>\n",
       "    </tr>\n",
       "  </thead>\n",
       "  <tbody>\n",
       "    <tr>\n",
       "      <th>738</th>\n",
       "      <td>Suzuki Ignis 1.2 VVT Hybrid Comfort</td>\n",
       "      <td>Suzuki</td>\n",
       "      <td>2020</td>\n",
       "      <td>7537</td>\n",
       "      <td>bencinski motor</td>\n",
       "      <td>ročni menjalnik</td>\n",
       "      <td>1242</td>\n",
       "      <td>66</td>\n",
       "      <td>10250</td>\n",
       "      <td>129.442717</td>\n",
       "    </tr>\n",
       "  </tbody>\n",
       "</table>\n",
       "</div>"
      ],
      "text/plain": [
       "                          ime_avtomobila  znamka  leto_prve_registracije  \\\n",
       "738  Suzuki Ignis 1.2 VVT Hybrid Comfort  Suzuki                    2020   \n",
       "\n",
       "     prevozeni_kilometri    vrsta_motorja vrsta_menjalnika velikost_motorja  \\\n",
       "738                 7537  bencinski motor  ročni menjalnik             1242   \n",
       "\n",
       "    moc_motorja   cena    ugodnost  \n",
       "738          66  10250  129.442717  "
      ]
     },
     "execution_count": 154,
     "metadata": {},
     "output_type": "execute_result"
    }
   ],
   "source": [
    "najugodnejsi[najugodnejsi.znamka == \"Suzuki\"].sort_values(\"ugodnost\", ascending=[False]).head(1)"
   ]
  },
  {
   "cell_type": "code",
   "execution_count": 155,
   "metadata": {},
   "outputs": [
    {
     "data": {
      "text/html": [
       "<div>\n",
       "<style scoped>\n",
       "    .dataframe tbody tr th:only-of-type {\n",
       "        vertical-align: middle;\n",
       "    }\n",
       "\n",
       "    .dataframe tbody tr th {\n",
       "        vertical-align: top;\n",
       "    }\n",
       "\n",
       "    .dataframe thead th {\n",
       "        text-align: right;\n",
       "    }\n",
       "</style>\n",
       "<table border=\"1\" class=\"dataframe\">\n",
       "  <thead>\n",
       "    <tr style=\"text-align: right;\">\n",
       "      <th></th>\n",
       "      <th>ime_avtomobila</th>\n",
       "      <th>znamka</th>\n",
       "      <th>leto_prve_registracije</th>\n",
       "      <th>prevozeni_kilometri</th>\n",
       "      <th>vrsta_motorja</th>\n",
       "      <th>vrsta_menjalnika</th>\n",
       "      <th>velikost_motorja</th>\n",
       "      <th>moc_motorja</th>\n",
       "      <th>cena</th>\n",
       "      <th>ugodnost</th>\n",
       "    </tr>\n",
       "  </thead>\n",
       "  <tbody>\n",
       "    <tr>\n",
       "      <th>436</th>\n",
       "      <td>Mercedes-Benz B-Razred B 160 Style KAMERA LED ...</td>\n",
       "      <td>Mercedes-Benz</td>\n",
       "      <td>2020</td>\n",
       "      <td>10223</td>\n",
       "      <td>bencinski motor</td>\n",
       "      <td>ročni menjalnik</td>\n",
       "      <td>1332</td>\n",
       "      <td>80</td>\n",
       "      <td>19490</td>\n",
       "      <td>50.189145</td>\n",
       "    </tr>\n",
       "  </tbody>\n",
       "</table>\n",
       "</div>"
      ],
      "text/plain": [
       "                                        ime_avtomobila         znamka  \\\n",
       "436  Mercedes-Benz B-Razred B 160 Style KAMERA LED ...  Mercedes-Benz   \n",
       "\n",
       "     leto_prve_registracije  prevozeni_kilometri    vrsta_motorja  \\\n",
       "436                    2020                10223  bencinski motor   \n",
       "\n",
       "    vrsta_menjalnika velikost_motorja moc_motorja   cena   ugodnost  \n",
       "436  ročni menjalnik             1332          80  19490  50.189145  "
      ]
     },
     "execution_count": 155,
     "metadata": {},
     "output_type": "execute_result"
    }
   ],
   "source": [
    "najugodnejsi[najugodnejsi.znamka == \"Mercedes-Benz\"].sort_values(\"ugodnost\", ascending=[False]).head(1)"
   ]
  },
  {
   "cell_type": "markdown",
   "metadata": {},
   "source": [
    "Ponovno na seznamu ugodnejših vidimo firme, ki so bile najugodnejše tudi med splošnimi novejšimi avtomobili. Izjema je spet znamka Mercedes-Benz, ki je v danih pogojih na 5. mestu po ugodnosti. Sklepamo lahko, da imajo avti Mercedes nižjo ceno kot avti drugih firm z istim rangom prevoženih kilometrov, t.j. manj kot 200 000 km.\n",
    "\n",
    "Primer avtomobilov, ki bi utegnila zanimati našega kupca sta praktično nov **Suzuki Ignis** letnik 2020, izpostavimo pa še **Mercedeza 160 B**, prav tako letnik 2020, ki je sicer več vožen in skoraj dvakrat dražji, torej manj ugoden, a je kljub temu odlična izbira za nekoga, ki si ogleduje bolj priznane znamke."
   ]
  },
  {
   "cell_type": "markdown",
   "metadata": {},
   "source": [
    "# 4. Napoved cene\n",
    "\n",
    "Imamo kupca z vizijo svojega bodočega avtomobila na strani [avto.net](https://www.avto.net/). To je torej tak kupec, ki vsaj približno ve katere znamke avtomobil išče, koliko starega, s kakšnim menjalnikom, s koliko konji ipd. Ali lahko napišemo program, ki mu bo, ob danih željah o lastnostih avtomobila, pomagal določiti okvirno ceno, ki jo lahko pričakuje oziroma povprečno ceno za avto s takimi karakteristika?"
   ]
  },
  {
   "cell_type": "markdown",
   "metadata": {},
   "source": [
    "Za začetek moramo vsako od lastnosti razdeliti v razrede. Smiselno je namreč enačiti podobno število opravljenih kilometrov, podobno velikost/moč motorja itd. Za leto registracije na primer, bomo avtomobile razdelili v petletja. Storimo enako še za ostale lastnosti avtov, velikost razredov določimo tako, da je smiselna za dano lastnost."
   ]
  },
  {
   "cell_type": "code",
   "execution_count": 93,
   "metadata": {},
   "outputs": [],
   "source": [
    "def razresi_velikost(x):\n",
    "    if type(x) == float:\n",
    "        return 0\n",
    "    else:\n",
    "        return int(x)\n",
    "\n",
    "avti.velikost_motorja = avti.velikost_motorja.apply(razresi_velikost)"
   ]
  },
  {
   "cell_type": "code",
   "execution_count": 102,
   "metadata": {},
   "outputs": [],
   "source": [
    "avti[\"razred_kilometrov\"] = 100000 * round(avti.prevozeni_kilometri / 100000)\n",
    "avti[\"razred_velikosti_motorja\"] = 500 * round(avti.velikost_motorja / 500)\n",
    "avti[\"razred_moci_motorja\"] = 25 * round(avti.moc_motorja / 25)\n",
    "avti[\"razred_leta_registracije\"] = 5 * round(avti.leto_prve_registracije / 5)"
   ]
  },
  {
   "cell_type": "code",
   "execution_count": 103,
   "metadata": {
    "scrolled": true
   },
   "outputs": [
    {
     "data": {
      "text/html": [
       "<div>\n",
       "<style scoped>\n",
       "    .dataframe tbody tr th:only-of-type {\n",
       "        vertical-align: middle;\n",
       "    }\n",
       "\n",
       "    .dataframe tbody tr th {\n",
       "        vertical-align: top;\n",
       "    }\n",
       "\n",
       "    .dataframe thead th {\n",
       "        text-align: right;\n",
       "    }\n",
       "</style>\n",
       "<table border=\"1\" class=\"dataframe\">\n",
       "  <thead>\n",
       "    <tr style=\"text-align: right;\">\n",
       "      <th></th>\n",
       "      <th>znamka</th>\n",
       "      <th>vrsta_motorja</th>\n",
       "      <th>vrsta_menjalnika</th>\n",
       "      <th>razred_kilometrov</th>\n",
       "      <th>razred_velikosti_motorja</th>\n",
       "      <th>razred_moci_motorja</th>\n",
       "      <th>razred_leta_registracije</th>\n",
       "      <th>cena</th>\n",
       "    </tr>\n",
       "  </thead>\n",
       "  <tbody>\n",
       "    <tr>\n",
       "      <th>0</th>\n",
       "      <td>Abarth</td>\n",
       "      <td>bencinski motor</td>\n",
       "      <td>ročni menjalnik</td>\n",
       "      <td>100000.0</td>\n",
       "      <td>1500.0</td>\n",
       "      <td>100.0</td>\n",
       "      <td>2010.0</td>\n",
       "      <td>9650</td>\n",
       "    </tr>\n",
       "    <tr>\n",
       "      <th>1</th>\n",
       "      <td>Alfa</td>\n",
       "      <td>diesel motor</td>\n",
       "      <td>ročni menjalnik</td>\n",
       "      <td>200000.0</td>\n",
       "      <td>2000.0</td>\n",
       "      <td>75.0</td>\n",
       "      <td>2005.0</td>\n",
       "      <td>1500</td>\n",
       "    </tr>\n",
       "    <tr>\n",
       "      <th>2</th>\n",
       "      <td>Alfa</td>\n",
       "      <td>diesel motor</td>\n",
       "      <td>ročni menjalnik</td>\n",
       "      <td>300000.0</td>\n",
       "      <td>2000.0</td>\n",
       "      <td>75.0</td>\n",
       "      <td>2005.0</td>\n",
       "      <td>350</td>\n",
       "    </tr>\n",
       "    <tr>\n",
       "      <th>3</th>\n",
       "      <td>Alfa</td>\n",
       "      <td>diesel motor</td>\n",
       "      <td>ročni menjalnik</td>\n",
       "      <td>200000.0</td>\n",
       "      <td>2000.0</td>\n",
       "      <td>100.0</td>\n",
       "      <td>2005.0</td>\n",
       "      <td>1790</td>\n",
       "    </tr>\n",
       "    <tr>\n",
       "      <th>4</th>\n",
       "      <td>Alfa</td>\n",
       "      <td>diesel motor</td>\n",
       "      <td>ročni menjalnik</td>\n",
       "      <td>300000.0</td>\n",
       "      <td>2000.0</td>\n",
       "      <td>75.0</td>\n",
       "      <td>2005.0</td>\n",
       "      <td>1250</td>\n",
       "    </tr>\n",
       "    <tr>\n",
       "      <th>...</th>\n",
       "      <td>...</td>\n",
       "      <td>...</td>\n",
       "      <td>...</td>\n",
       "      <td>...</td>\n",
       "      <td>...</td>\n",
       "      <td>...</td>\n",
       "      <td>...</td>\n",
       "      <td>...</td>\n",
       "    </tr>\n",
       "    <tr>\n",
       "      <th>930</th>\n",
       "      <td>Volvo</td>\n",
       "      <td>diesel motor</td>\n",
       "      <td>avtomatski menjalnik</td>\n",
       "      <td>200000.0</td>\n",
       "      <td>2500.0</td>\n",
       "      <td>150.0</td>\n",
       "      <td>2015.0</td>\n",
       "      <td>14400</td>\n",
       "    </tr>\n",
       "    <tr>\n",
       "      <th>931</th>\n",
       "      <td>Volvo</td>\n",
       "      <td>diesel motor</td>\n",
       "      <td>avtomatski menjalnik</td>\n",
       "      <td>100000.0</td>\n",
       "      <td>2500.0</td>\n",
       "      <td>150.0</td>\n",
       "      <td>2015.0</td>\n",
       "      <td>20999</td>\n",
       "    </tr>\n",
       "    <tr>\n",
       "      <th>932</th>\n",
       "      <td>Volvo</td>\n",
       "      <td>diesel motor</td>\n",
       "      <td>ročni menjalnik</td>\n",
       "      <td>200000.0</td>\n",
       "      <td>2000.0</td>\n",
       "      <td>125.0</td>\n",
       "      <td>2015.0</td>\n",
       "      <td>15300</td>\n",
       "    </tr>\n",
       "    <tr>\n",
       "      <th>933</th>\n",
       "      <td>Volvo</td>\n",
       "      <td>diesel motor</td>\n",
       "      <td>avtomatski menjalnik</td>\n",
       "      <td>100000.0</td>\n",
       "      <td>2000.0</td>\n",
       "      <td>175.0</td>\n",
       "      <td>2015.0</td>\n",
       "      <td>30900</td>\n",
       "    </tr>\n",
       "    <tr>\n",
       "      <th>934</th>\n",
       "      <td>Volvo</td>\n",
       "      <td>hibridni pogon</td>\n",
       "      <td>avtomatski menjalnik</td>\n",
       "      <td>100000.0</td>\n",
       "      <td>2000.0</td>\n",
       "      <td>225.0</td>\n",
       "      <td>2015.0</td>\n",
       "      <td>43700</td>\n",
       "    </tr>\n",
       "  </tbody>\n",
       "</table>\n",
       "<p>935 rows × 8 columns</p>\n",
       "</div>"
      ],
      "text/plain": [
       "     znamka    vrsta_motorja      vrsta_menjalnika  razred_kilometrov  \\\n",
       "0    Abarth  bencinski motor       ročni menjalnik           100000.0   \n",
       "1      Alfa     diesel motor       ročni menjalnik           200000.0   \n",
       "2      Alfa     diesel motor       ročni menjalnik           300000.0   \n",
       "3      Alfa     diesel motor       ročni menjalnik           200000.0   \n",
       "4      Alfa     diesel motor       ročni menjalnik           300000.0   \n",
       "..      ...              ...                   ...                ...   \n",
       "930   Volvo     diesel motor  avtomatski menjalnik           200000.0   \n",
       "931   Volvo     diesel motor  avtomatski menjalnik           100000.0   \n",
       "932   Volvo     diesel motor       ročni menjalnik           200000.0   \n",
       "933   Volvo     diesel motor  avtomatski menjalnik           100000.0   \n",
       "934   Volvo   hibridni pogon  avtomatski menjalnik           100000.0   \n",
       "\n",
       "     razred_velikosti_motorja  razred_moci_motorja  razred_leta_registracije  \\\n",
       "0                      1500.0                100.0                    2010.0   \n",
       "1                      2000.0                 75.0                    2005.0   \n",
       "2                      2000.0                 75.0                    2005.0   \n",
       "3                      2000.0                100.0                    2005.0   \n",
       "4                      2000.0                 75.0                    2005.0   \n",
       "..                        ...                  ...                       ...   \n",
       "930                    2500.0                150.0                    2015.0   \n",
       "931                    2500.0                150.0                    2015.0   \n",
       "932                    2000.0                125.0                    2015.0   \n",
       "933                    2000.0                175.0                    2015.0   \n",
       "934                    2000.0                225.0                    2015.0   \n",
       "\n",
       "      cena  \n",
       "0     9650  \n",
       "1     1500  \n",
       "2      350  \n",
       "3     1790  \n",
       "4     1250  \n",
       "..     ...  \n",
       "930  14400  \n",
       "931  20999  \n",
       "932  15300  \n",
       "933  30900  \n",
       "934  43700  \n",
       "\n",
       "[935 rows x 8 columns]"
      ]
     },
     "execution_count": 103,
     "metadata": {},
     "output_type": "execute_result"
    }
   ],
   "source": [
    "avti_po_razredih = avti[[\"znamka\", \"vrsta_motorja\", \"vrsta_menjalnika\", \"razred_kilometrov\", \"razred_velikosti_motorja\", \"razred_moci_motorja\", \"razred_leta_registracije\", \"cena\"]]\n",
    "avti_po_razredih"
   ]
  },
  {
   "cell_type": "code",
   "execution_count": 88,
   "metadata": {
    "scrolled": true
   },
   "outputs": [
    {
     "data": {
      "text/plain": [
       "<AxesSubplot:xlabel='vrsta_menjalnika'>"
      ]
     },
     "execution_count": 88,
     "metadata": {},
     "output_type": "execute_result"
    },
    {
     "data": {
      "image/png": "[encoded data removed]",
      "text/plain": [
       "<Figure size 432x288 with 1 Axes>"
      ]
     },
     "metadata": {
      "needs_background": "light"
     },
     "output_type": "display_data"
    }
   ],
   "source": [
    "lastnosti = {}\n",
    "for lastnost in avti_po_razredih.columns:\n",
    "    lastnosti[\"{0}\".format(lastnost)] = round(avti.groupby(f\"{lastnost}\").cena.mean())\n",
    "\n",
    "# slovar povprečnih cen glede na neko lastnost, na primer:\n",
    "lastnosti.get(\"vrsta_menjalnika\").plot.bar()"
   ]
  },
  {
   "cell_type": "code",
   "execution_count": 116,
   "metadata": {},
   "outputs": [
    {
     "data": {
      "text/plain": [
       "Index(['znamka', 'vrsta_motorja', 'vrsta_menjalnika', 'razred_kilometrov',\n",
       "       'razred_velikosti_motorja', 'razred_moci_motorja',\n",
       "       'razred_leta_registracije', 'cena'],\n",
       "      dtype='object')"
      ]
     },
     "execution_count": 116,
     "metadata": {},
     "output_type": "execute_result"
    }
   ],
   "source": [
    "avti_po_razredih.columns"
   ]
  },
  {
   "cell_type": "markdown",
   "metadata": {},
   "source": [
    "Sedaj bomo predvidevali, da je povprečna cena avtomobila z danimi karakteristikami enaka povprečju povprečnih cen posamičnih lastnosti."
   ]
  },
  {
   "cell_type": "code",
   "execution_count": 122,
   "metadata": {},
   "outputs": [],
   "source": [
    "def okvirna_cena(znamka, prevozeni_kilometri, velikost_motorja, moc_motorja, vrsta_motorja=\"bencinski_motor\", vrsta_menjalnika=\"ročni_menjalnik\", leto_registracije=2010):\n",
    "    razred_kilometrov =  100000 * round(prevozeni_kilometri / 100000)\n",
    "    razred_velikosti = 500 * round(velikost_motorja / 500)\n",
    "    razred_moci = 25 * round(moc_motorja / 25)\n",
    "    razred_leta = 5 * round(leto_registracije / 5)\n",
    "    # podatke porazdelimo v razrede\n",
    "    podatki = [znamka, vrsta_motorja, vrsta_menjalnika, razred_kilometrov, razred_velikosti, razred_moci, razred_leta]\n",
    "    slovar = {lastnost : vrednost for lastnost, vrednost in zip(avti_po_razredih.columns,podatki)}\n",
    "    \n",
    "    cena = sum(lastnost.get(lastnost).vrednost for lastnost, vrednost in slovar) / len(lastnosti)\n",
    "    \n",
    "    return cena\n"
   ]
  }
 ],
 "metadata": {
  "kernelspec": {
   "display_name": "Python 3",
   "language": "python",
   "name": "python3"
  },
  "language_info": {
   "codemirror_mode": {
    "name": "ipython",
    "version": 3
   },
   "file_extension": ".py",
   "mimetype": "text/x-python",
   "name": "python",
   "nbconvert_exporter": "python",
   "pygments_lexer": "ipython3",
   "version": "3.8.5"
  }
 },
 "nbformat": 4,
 "nbformat_minor": 4
}
