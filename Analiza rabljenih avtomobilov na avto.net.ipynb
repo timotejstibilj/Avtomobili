{
 "cells": [
  {
   "cell_type": "markdown",
   "metadata": {},
   "source": [
    "# Analiza rabljenih avtomobilov s strani avto.net\n",
    "\n",
    "Analizo bomo opravili s pomočjo knjižnice pandas in csv tabele, ki jo pred začetkom naložimo."
   ]
  },
  {
   "cell_type": "code",
   "execution_count": 4,
   "metadata": {},
   "outputs": [],
   "source": [
    "# naložimo paket\n",
    "import pandas as pd\n",
    "\n",
    "# ker bomo delali z velikimi razpredelnicami, povemo, da naj se vedno izpiše le 10 vrstic\n",
    "pd.options.display.max_rows = 10\n",
    "\n",
    "# izberemo interaktivni \"notebook\" stil risanja\n",
    "%matplotlib inline\n",
    "\n",
    "# naložimo razpredelnico, s katero bomo delali\n",
    "import os.path\n",
    "pot_do_podatkov = os.path.join(\"../../\", \"avtomobili\", \"Avtomobili\", \"obdelani-podatki\", \"oglasi.csv\")\n",
    "\n",
    "avti = pd.read_csv(pot_do_podatkov)"
   ]
  },
  {
   "cell_type": "markdown",
   "metadata": {},
   "source": [
    "Poglejmo si podatke.\n",
    "Opomba: velikost motorja je podana v ccm, moč motorja v kW, cena pa v evrih."
   ]
  },
  {
   "cell_type": "code",
   "execution_count": 10,
   "metadata": {},
   "outputs": [
    {
     "data": {
      "text/html": [
       "<div>\n",
       "<style scoped>\n",
       "    .dataframe tbody tr th:only-of-type {\n",
       "        vertical-align: middle;\n",
       "    }\n",
       "\n",
       "    .dataframe tbody tr th {\n",
       "        vertical-align: top;\n",
       "    }\n",
       "\n",
       "    .dataframe thead th {\n",
       "        text-align: right;\n",
       "    }\n",
       "</style>\n",
       "<table border=\"1\" class=\"dataframe\">\n",
       "  <thead>\n",
       "    <tr style=\"text-align: right;\">\n",
       "      <th></th>\n",
       "      <th>ime_avtomobila</th>\n",
       "      <th>znamka</th>\n",
       "      <th>leto_prve_registracije</th>\n",
       "      <th>prevozeni_kilometri</th>\n",
       "      <th>vrsta_motorja</th>\n",
       "      <th>vrsta_menjalnika</th>\n",
       "      <th>velikost_motorja</th>\n",
       "      <th>moc_motorja</th>\n",
       "      <th>cena</th>\n",
       "      <th>petletje</th>\n",
       "    </tr>\n",
       "  </thead>\n",
       "  <tbody>\n",
       "    <tr>\n",
       "      <th>0</th>\n",
       "      <td>Abarth - 500-PANORAMA-ODLIÈEN</td>\n",
       "      <td>Abarth</td>\n",
       "      <td>2008</td>\n",
       "      <td>119000</td>\n",
       "      <td>bencinski motor</td>\n",
       "      <td>ročni menjalnik</td>\n",
       "      <td>1369</td>\n",
       "      <td>99</td>\n",
       "      <td>9650</td>\n",
       "      <td>2010.0</td>\n",
       "    </tr>\n",
       "    <tr>\n",
       "      <th>10</th>\n",
       "      <td>Alfa Romeo Giulia 2.2 Multijet-1.LASTNIK-ALU-P...</td>\n",
       "      <td>Alfa</td>\n",
       "      <td>2016</td>\n",
       "      <td>147700</td>\n",
       "      <td>diesel motor</td>\n",
       "      <td>avtomatski menjalnik</td>\n",
       "      <td>2143</td>\n",
       "      <td>110</td>\n",
       "      <td>17990</td>\n",
       "      <td>2015.0</td>\n",
       "    </tr>\n",
       "    <tr>\n",
       "      <th>9</th>\n",
       "      <td>Alfa Romeo GT 1.9 JTD M-Jet Progression</td>\n",
       "      <td>Alfa</td>\n",
       "      <td>2005</td>\n",
       "      <td>300000</td>\n",
       "      <td>diesel motor</td>\n",
       "      <td>ročni menjalnik</td>\n",
       "      <td>1910</td>\n",
       "      <td>110</td>\n",
       "      <td>1499</td>\n",
       "      <td>2005.0</td>\n",
       "    </tr>\n",
       "    <tr>\n",
       "      <th>8</th>\n",
       "      <td>Alfa Romeo 159 Sportwagon 1.9 JTDM Progression...</td>\n",
       "      <td>Alfa</td>\n",
       "      <td>2008</td>\n",
       "      <td>250000</td>\n",
       "      <td>diesel motor</td>\n",
       "      <td>avtomatski menjalnik</td>\n",
       "      <td>1910</td>\n",
       "      <td>110</td>\n",
       "      <td>1600</td>\n",
       "      <td>2010.0</td>\n",
       "    </tr>\n",
       "    <tr>\n",
       "      <th>7</th>\n",
       "      <td>Alfa Romeo 159 2.0 JTDM-BI-XENON-NAVI-170PS-V ...</td>\n",
       "      <td>Alfa</td>\n",
       "      <td>2012</td>\n",
       "      <td>154000</td>\n",
       "      <td>diesel motor</td>\n",
       "      <td>ročni menjalnik</td>\n",
       "      <td>1956</td>\n",
       "      <td>125</td>\n",
       "      <td>7999</td>\n",
       "      <td>2010.0</td>\n",
       "    </tr>\n",
       "    <tr>\n",
       "      <th>...</th>\n",
       "      <td>...</td>\n",
       "      <td>...</td>\n",
       "      <td>...</td>\n",
       "      <td>...</td>\n",
       "      <td>...</td>\n",
       "      <td>...</td>\n",
       "      <td>...</td>\n",
       "      <td>...</td>\n",
       "      <td>...</td>\n",
       "      <td>...</td>\n",
       "    </tr>\n",
       "    <tr>\n",
       "      <th>923</th>\n",
       "      <td>Volvo S60 D2 NAVI+PDC</td>\n",
       "      <td>Volvo</td>\n",
       "      <td>2013</td>\n",
       "      <td>162000</td>\n",
       "      <td>diesel motor</td>\n",
       "      <td>ročni menjalnik</td>\n",
       "      <td>1560</td>\n",
       "      <td>84</td>\n",
       "      <td>7890</td>\n",
       "      <td>2015.0</td>\n",
       "    </tr>\n",
       "    <tr>\n",
       "      <th>922</th>\n",
       "      <td>Volvo S40</td>\n",
       "      <td>Volvo</td>\n",
       "      <td>2011</td>\n",
       "      <td>184150</td>\n",
       "      <td>diesel motor</td>\n",
       "      <td>avtomatski menjalnik</td>\n",
       "      <td>1984</td>\n",
       "      <td>130</td>\n",
       "      <td>5600</td>\n",
       "      <td>2010.0</td>\n",
       "    </tr>\n",
       "    <tr>\n",
       "      <th>933</th>\n",
       "      <td>Volvo XC90 D5 AWD Kinetic Geartronic</td>\n",
       "      <td>Volvo</td>\n",
       "      <td>2017</td>\n",
       "      <td>82457</td>\n",
       "      <td>diesel motor</td>\n",
       "      <td>avtomatski menjalnik</td>\n",
       "      <td>1969</td>\n",
       "      <td>173</td>\n",
       "      <td>30900</td>\n",
       "      <td>2015.0</td>\n",
       "    </tr>\n",
       "    <tr>\n",
       "      <th>927</th>\n",
       "      <td>Volvo V60 Cross Country D3 Summum-Usnje-Kamera</td>\n",
       "      <td>Volvo</td>\n",
       "      <td>2016</td>\n",
       "      <td>131214</td>\n",
       "      <td>diesel motor</td>\n",
       "      <td>ročni menjalnik</td>\n",
       "      <td>1969</td>\n",
       "      <td>110</td>\n",
       "      <td>15440</td>\n",
       "      <td>2015.0</td>\n",
       "    </tr>\n",
       "    <tr>\n",
       "      <th>934</th>\n",
       "      <td>Volvo XC90 T8 Twin Engine R-Design Geartronic-...</td>\n",
       "      <td>Volvo</td>\n",
       "      <td>2016</td>\n",
       "      <td>140300</td>\n",
       "      <td>hibridni pogon</td>\n",
       "      <td>avtomatski menjalnik</td>\n",
       "      <td>1969</td>\n",
       "      <td>235</td>\n",
       "      <td>43700</td>\n",
       "      <td>2015.0</td>\n",
       "    </tr>\n",
       "  </tbody>\n",
       "</table>\n",
       "<p>935 rows × 10 columns</p>\n",
       "</div>"
      ],
      "text/plain": [
       "                                        ime_avtomobila  znamka  \\\n",
       "0                       Abarth - 500-PANORAMA-ODLIÈEN   Abarth   \n",
       "10   Alfa Romeo Giulia 2.2 Multijet-1.LASTNIK-ALU-P...    Alfa   \n",
       "9              Alfa Romeo GT 1.9 JTD M-Jet Progression    Alfa   \n",
       "8    Alfa Romeo 159 Sportwagon 1.9 JTDM Progression...    Alfa   \n",
       "7    Alfa Romeo 159 2.0 JTDM-BI-XENON-NAVI-170PS-V ...    Alfa   \n",
       "..                                                 ...     ...   \n",
       "923                              Volvo S60 D2 NAVI+PDC   Volvo   \n",
       "922                                         Volvo S40    Volvo   \n",
       "933               Volvo XC90 D5 AWD Kinetic Geartronic   Volvo   \n",
       "927     Volvo V60 Cross Country D3 Summum-Usnje-Kamera   Volvo   \n",
       "934  Volvo XC90 T8 Twin Engine R-Design Geartronic-...   Volvo   \n",
       "\n",
       "     leto_prve_registracije  prevozeni_kilometri    vrsta_motorja  \\\n",
       "0                      2008               119000  bencinski motor   \n",
       "10                     2016               147700     diesel motor   \n",
       "9                      2005               300000     diesel motor   \n",
       "8                      2008               250000     diesel motor   \n",
       "7                      2012               154000     diesel motor   \n",
       "..                      ...                  ...              ...   \n",
       "923                    2013               162000     diesel motor   \n",
       "922                    2011               184150     diesel motor   \n",
       "933                    2017                82457     diesel motor   \n",
       "927                    2016               131214     diesel motor   \n",
       "934                    2016               140300   hibridni pogon   \n",
       "\n",
       "         vrsta_menjalnika velikost_motorja moc_motorja   cena  petletje  \n",
       "0         ročni menjalnik             1369          99   9650    2010.0  \n",
       "10   avtomatski menjalnik             2143         110  17990    2015.0  \n",
       "9         ročni menjalnik             1910         110   1499    2005.0  \n",
       "8    avtomatski menjalnik             1910         110   1600    2010.0  \n",
       "7         ročni menjalnik             1956         125   7999    2010.0  \n",
       "..                    ...              ...         ...    ...       ...  \n",
       "923       ročni menjalnik             1560          84   7890    2015.0  \n",
       "922  avtomatski menjalnik             1984         130   5600    2010.0  \n",
       "933  avtomatski menjalnik             1969         173  30900    2015.0  \n",
       "927       ročni menjalnik             1969         110  15440    2015.0  \n",
       "934  avtomatski menjalnik             1969         235  43700    2015.0  \n",
       "\n",
       "[935 rows x 10 columns]"
      ]
     },
     "execution_count": 10,
     "metadata": {},
     "output_type": "execute_result"
    }
   ],
   "source": [
    "avti.sort_values(\"znamka\")"
   ]
  },
  {
   "cell_type": "markdown",
   "metadata": {},
   "source": [
    "Iz vsakega oglasa smo za dan avtomobil izločili sledeče:\n",
    "- polno ime\n",
    "- znamko\n",
    "- leto prve registracije\n",
    "- stevilo prevozenih kilometrov\n",
    "- vrsto motorja\n",
    "- vrsto menjalnika\n",
    "- velikost motorja\n",
    "- moč motorja\n",
    "- ceno"
   ]
  },
  {
   "cell_type": "markdown",
   "metadata": {},
   "source": [
    "## 1. Avto za študenta\n",
    "\n",
    "Denimo da ima študent privarčevanih 1000€ in ga zanima ali si z njimi lahko privošči nakup avtomobila. Ali lahko na spletni strani avto.net najde kaj primernega? "
   ]
  },
  {
   "cell_type": "code",
   "execution_count": 12,
   "metadata": {},
   "outputs": [
    {
     "data": {
      "text/html": [
       "<div>\n",
       "<style scoped>\n",
       "    .dataframe tbody tr th:only-of-type {\n",
       "        vertical-align: middle;\n",
       "    }\n",
       "\n",
       "    .dataframe tbody tr th {\n",
       "        vertical-align: top;\n",
       "    }\n",
       "\n",
       "    .dataframe thead th {\n",
       "        text-align: right;\n",
       "    }\n",
       "</style>\n",
       "<table border=\"1\" class=\"dataframe\">\n",
       "  <thead>\n",
       "    <tr style=\"text-align: right;\">\n",
       "      <th></th>\n",
       "      <th>ime_avtomobila</th>\n",
       "      <th>cena</th>\n",
       "    </tr>\n",
       "  </thead>\n",
       "  <tbody>\n",
       "    <tr>\n",
       "      <th>831</th>\n",
       "      <td>Volkswagen Hroè VW HOT ROD</td>\n",
       "      <td>81</td>\n",
       "    </tr>\n",
       "    <tr>\n",
       "      <th>715</th>\n",
       "      <td>Seat Ibiza</td>\n",
       "      <td>180</td>\n",
       "    </tr>\n",
       "    <tr>\n",
       "      <th>320</th>\n",
       "      <td>Fiat Multipla 1.9 JTD ELX 115</td>\n",
       "      <td>200</td>\n",
       "    </tr>\n",
       "    <tr>\n",
       "      <th>556</th>\n",
       "      <td>Opel Corsa Cosmo 1.4 16V Easytronic</td>\n",
       "      <td>300</td>\n",
       "    </tr>\n",
       "    <tr>\n",
       "      <th>343</th>\n",
       "      <td>Ford Fiesta Flair 1.3</td>\n",
       "      <td>300</td>\n",
       "    </tr>\n",
       "    <tr>\n",
       "      <th>...</th>\n",
       "      <td>...</td>\n",
       "      <td>...</td>\n",
       "    </tr>\n",
       "    <tr>\n",
       "      <th>243</th>\n",
       "      <td>Chevrolet Aveo 1.2 Direct</td>\n",
       "      <td>950</td>\n",
       "    </tr>\n",
       "    <tr>\n",
       "      <th>744</th>\n",
       "      <td>Toyota Avensis W G 2.0 D-4D</td>\n",
       "      <td>990</td>\n",
       "    </tr>\n",
       "    <tr>\n",
       "      <th>441</th>\n",
       "      <td>Mercedes-Benz C-Razred</td>\n",
       "      <td>990</td>\n",
       "    </tr>\n",
       "    <tr>\n",
       "      <th>672</th>\n",
       "      <td>Renault Megane 1.5 dCi</td>\n",
       "      <td>990</td>\n",
       "    </tr>\n",
       "    <tr>\n",
       "      <th>442</th>\n",
       "      <td>Mercedes-Benz C-Razred</td>\n",
       "      <td>990</td>\n",
       "    </tr>\n",
       "  </tbody>\n",
       "</table>\n",
       "<p>78 rows × 2 columns</p>\n",
       "</div>"
      ],
      "text/plain": [
       "                          ime_avtomobila  cena\n",
       "831          Volkswagen Hroè VW HOT ROD    81\n",
       "715                          Seat Ibiza    180\n",
       "320        Fiat Multipla 1.9 JTD ELX 115   200\n",
       "556  Opel Corsa Cosmo 1.4 16V Easytronic   300\n",
       "343                Ford Fiesta Flair 1.3   300\n",
       "..                                   ...   ...\n",
       "243            Chevrolet Aveo 1.2 Direct   950\n",
       "744         Toyota Avensis W G 2.0 D-4D    990\n",
       "441              Mercedes-Benz C-Razred    990\n",
       "672              Renault Megane 1.5 dCi    990\n",
       "442              Mercedes-Benz C-Razred    990\n",
       "\n",
       "[78 rows x 2 columns]"
      ]
     },
     "execution_count": 12,
     "metadata": {},
     "output_type": "execute_result"
    }
   ],
   "source": [
    "studentski_avti = avti[(avti.cena < 1000)]\n",
    "studentski_avti[[\"ime_avtomobila\", \"cena\"]].sort_values([\"cena\"], ascending=[True])"
   ]
  },
  {
   "cell_type": "code",
   "execution_count": 5,
   "metadata": {},
   "outputs": [
    {
     "data": {
      "text/plain": [
       "78"
      ]
     },
     "execution_count": 5,
     "metadata": {},
     "output_type": "execute_result"
    }
   ],
   "source": [
    "studentski_avti.shape[0]"
   ]
  },
  {
   "cell_type": "markdown",
   "metadata": {},
   "source": [
    "Študent torej ima nekaj izbire, natančneje 78 avtov za izbran znesek pod 1000€. Študent se bržkone želi prepričati, da so oglasi poštene narave in so tako starejši avtomobili ugodnejši od novejših."
   ]
  },
  {
   "cell_type": "code",
   "execution_count": 13,
   "metadata": {
    "scrolled": true
   },
   "outputs": [
    {
     "data": {
      "text/plain": [
       "<AxesSubplot:xlabel='leto_prve_registracije'>"
      ]
     },
     "execution_count": 13,
     "metadata": {},
     "output_type": "execute_result"
    },
    {
     "data": {
      "image/png": "[encoded data removed]",
      "text/plain": [
       "<Figure size 432x288 with 1 Axes>"
      ]
     },
     "metadata": {
      "needs_background": "light"
     },
     "output_type": "display_data"
    }
   ],
   "source": [
    "studentski_avti.groupby(\"leto_prve_registracije\").mean()[\"cena\"].plot()"
   ]
  },
  {
   "cell_type": "code",
   "execution_count": 18,
   "metadata": {},
   "outputs": [
    {
     "data": {
      "text/html": [
       "<div>\n",
       "<style scoped>\n",
       "    .dataframe tbody tr th:only-of-type {\n",
       "        vertical-align: middle;\n",
       "    }\n",
       "\n",
       "    .dataframe tbody tr th {\n",
       "        vertical-align: top;\n",
       "    }\n",
       "\n",
       "    .dataframe thead th {\n",
       "        text-align: right;\n",
       "    }\n",
       "</style>\n",
       "<table border=\"1\" class=\"dataframe\">\n",
       "  <thead>\n",
       "    <tr style=\"text-align: right;\">\n",
       "      <th></th>\n",
       "      <th>ime_avtomobila</th>\n",
       "      <th>leto_prve_registracije</th>\n",
       "      <th>cena</th>\n",
       "    </tr>\n",
       "  </thead>\n",
       "  <tbody>\n",
       "    <tr>\n",
       "      <th>808</th>\n",
       "      <td>Volkswagen Golf GL D</td>\n",
       "      <td>1984</td>\n",
       "      <td>800</td>\n",
       "    </tr>\n",
       "  </tbody>\n",
       "</table>\n",
       "</div>"
      ],
      "text/plain": [
       "           ime_avtomobila  leto_prve_registracije  cena\n",
       "808  Volkswagen Golf GL D                    1984   800"
      ]
     },
     "execution_count": 18,
     "metadata": {},
     "output_type": "execute_result"
    }
   ],
   "source": [
    "studentski_avti[(studentski_avti.leto_prve_registracije > 1981) & (studentski_avti.leto_prve_registracije < 1990)][[\"ime_avtomobila\", \"leto_prve_registracije\", \"cena\"]]"
   ]
  },
  {
   "cell_type": "markdown",
   "metadata": {},
   "source": [
    "Večji odmik se pojavi samo pri avtih iz osemdesetih. Ob dodatnem vpogledu lahko vidimo, da je le en primer avtomobila iz tega časovnega obdobja, zato iz tega ne moremo sklepati, da bi bili morda avtomobili iz tega časa več vredni. V povprečju torej velja predpostvaka o korelaciji med starostjo in ceno avtomobilov. "
   ]
  },
  {
   "cell_type": "markdown",
   "metadata": {},
   "source": [
    "Študent si gotovo želi največ več avta za svoj denar. Denimo, da je rojen leta 2000 in si ne želi avtomobila starejšega od sebe. V želji po boljši ohranjenosti pa si ogleduje le avtomobile z manj kot 200 000 prevoženimi kilometri."
   ]
  },
  {
   "cell_type": "code",
   "execution_count": 45,
   "metadata": {
    "scrolled": true
   },
   "outputs": [
    {
     "data": {
      "text/html": [
       "<div>\n",
       "<style scoped>\n",
       "    .dataframe tbody tr th:only-of-type {\n",
       "        vertical-align: middle;\n",
       "    }\n",
       "\n",
       "    .dataframe tbody tr th {\n",
       "        vertical-align: top;\n",
       "    }\n",
       "\n",
       "    .dataframe thead th {\n",
       "        text-align: right;\n",
       "    }\n",
       "</style>\n",
       "<table border=\"1\" class=\"dataframe\">\n",
       "  <thead>\n",
       "    <tr style=\"text-align: right;\">\n",
       "      <th></th>\n",
       "      <th>ime_avtomobila</th>\n",
       "      <th>znamka</th>\n",
       "      <th>leto_prve_registracije</th>\n",
       "      <th>prevozeni_kilometri</th>\n",
       "      <th>vrsta_motorja</th>\n",
       "      <th>vrsta_menjalnika</th>\n",
       "      <th>velikost_motorja</th>\n",
       "      <th>moc_motorja</th>\n",
       "      <th>cena</th>\n",
       "    </tr>\n",
       "  </thead>\n",
       "  <tbody>\n",
       "    <tr>\n",
       "      <th>556</th>\n",
       "      <td>Opel Corsa Cosmo 1.4 16V Easytronic</td>\n",
       "      <td>Opel</td>\n",
       "      <td>2006</td>\n",
       "      <td>105000</td>\n",
       "      <td>bencinski motor</td>\n",
       "      <td>ročni menjalnik</td>\n",
       "      <td>1364</td>\n",
       "      <td>66</td>\n",
       "      <td>300</td>\n",
       "    </tr>\n",
       "    <tr>\n",
       "      <th>577</th>\n",
       "      <td>Peugeot 106 XN Pack</td>\n",
       "      <td>Peugeot</td>\n",
       "      <td>2001</td>\n",
       "      <td>110000</td>\n",
       "      <td>bencinski motor</td>\n",
       "      <td>ročni menjalnik</td>\n",
       "      <td>1124</td>\n",
       "      <td>44</td>\n",
       "      <td>505</td>\n",
       "    </tr>\n",
       "    <tr>\n",
       "      <th>303</th>\n",
       "      <td>Citroen Xsara 2.0 HDi Exclusive</td>\n",
       "      <td>Citroen</td>\n",
       "      <td>2003</td>\n",
       "      <td>195600</td>\n",
       "      <td>diesel motor</td>\n",
       "      <td>ročni menjalnik</td>\n",
       "      <td>1997</td>\n",
       "      <td>66</td>\n",
       "      <td>530</td>\n",
       "    </tr>\n",
       "    <tr>\n",
       "      <th>552</th>\n",
       "      <td>Opel Corsa Comfort 1.2 16V Easytronic prvilast...</td>\n",
       "      <td>Opel</td>\n",
       "      <td>2002</td>\n",
       "      <td>128000</td>\n",
       "      <td>bencinski motor</td>\n",
       "      <td>ročni menjalnik</td>\n",
       "      <td>1199</td>\n",
       "      <td>55</td>\n",
       "      <td>550</td>\n",
       "    </tr>\n",
       "    <tr>\n",
       "      <th>553</th>\n",
       "      <td>Opel Corsa Comfort 1.2 16V prvi lastnik samo12...</td>\n",
       "      <td>Opel</td>\n",
       "      <td>2002</td>\n",
       "      <td>128000</td>\n",
       "      <td>bencinski motor</td>\n",
       "      <td>ročni menjalnik</td>\n",
       "      <td>1199</td>\n",
       "      <td>55</td>\n",
       "      <td>550</td>\n",
       "    </tr>\n",
       "    <tr>\n",
       "      <th>...</th>\n",
       "      <td>...</td>\n",
       "      <td>...</td>\n",
       "      <td>...</td>\n",
       "      <td>...</td>\n",
       "      <td>...</td>\n",
       "      <td>...</td>\n",
       "      <td>...</td>\n",
       "      <td>...</td>\n",
       "      <td>...</td>\n",
       "    </tr>\n",
       "    <tr>\n",
       "      <th>822</th>\n",
       "      <td>Volkswagen Golf Variant 2.0 TDI BMT Highline D...</td>\n",
       "      <td>Volkswagen</td>\n",
       "      <td>2014</td>\n",
       "      <td>175532</td>\n",
       "      <td>diesel motor</td>\n",
       "      <td>avtomatski menjalnik</td>\n",
       "      <td>1968</td>\n",
       "      <td>110</td>\n",
       "      <td>800</td>\n",
       "    </tr>\n",
       "    <tr>\n",
       "      <th>759</th>\n",
       "      <td>Toyota Yaris 1.3 VVT-i Sol</td>\n",
       "      <td>Toyota</td>\n",
       "      <td>2003</td>\n",
       "      <td>184000</td>\n",
       "      <td>bencinski motor</td>\n",
       "      <td>ročni menjalnik</td>\n",
       "      <td>1298</td>\n",
       "      <td>64</td>\n",
       "      <td>850</td>\n",
       "    </tr>\n",
       "    <tr>\n",
       "      <th>324</th>\n",
       "      <td>Fiat Punto 1.2 16V Dynamic</td>\n",
       "      <td>Fiat</td>\n",
       "      <td>2004</td>\n",
       "      <td>183000</td>\n",
       "      <td>bencinski motor</td>\n",
       "      <td>ročni menjalnik</td>\n",
       "      <td>1242</td>\n",
       "      <td>59</td>\n",
       "      <td>850</td>\n",
       "    </tr>\n",
       "    <tr>\n",
       "      <th>545</th>\n",
       "      <td>Opel Corsa</td>\n",
       "      <td>Opel</td>\n",
       "      <td>2006</td>\n",
       "      <td>190000</td>\n",
       "      <td>bencinski motor</td>\n",
       "      <td>ročni menjalnik</td>\n",
       "      <td>1229</td>\n",
       "      <td>59</td>\n",
       "      <td>900</td>\n",
       "    </tr>\n",
       "    <tr>\n",
       "      <th>243</th>\n",
       "      <td>Chevrolet Aveo 1.2 Direct</td>\n",
       "      <td>Chevrolet</td>\n",
       "      <td>2006</td>\n",
       "      <td>50062</td>\n",
       "      <td>bencinski motor</td>\n",
       "      <td>ročni menjalnik</td>\n",
       "      <td>1150</td>\n",
       "      <td>53</td>\n",
       "      <td>950</td>\n",
       "    </tr>\n",
       "  </tbody>\n",
       "</table>\n",
       "<p>18 rows × 9 columns</p>\n",
       "</div>"
      ],
      "text/plain": [
       "                                        ime_avtomobila      znamka  \\\n",
       "556                Opel Corsa Cosmo 1.4 16V Easytronic        Opel   \n",
       "577                                Peugeot 106 XN Pack     Peugeot   \n",
       "303                    Citroen Xsara 2.0 HDi Exclusive     Citroen   \n",
       "552  Opel Corsa Comfort 1.2 16V Easytronic prvilast...        Opel   \n",
       "553  Opel Corsa Comfort 1.2 16V prvi lastnik samo12...        Opel   \n",
       "..                                                 ...         ...   \n",
       "822  Volkswagen Golf Variant 2.0 TDI BMT Highline D...  Volkswagen   \n",
       "759                         Toyota Yaris 1.3 VVT-i Sol      Toyota   \n",
       "324                         Fiat Punto 1.2 16V Dynamic        Fiat   \n",
       "545                                        Opel Corsa         Opel   \n",
       "243                          Chevrolet Aveo 1.2 Direct   Chevrolet   \n",
       "\n",
       "     leto_prve_registracije  prevozeni_kilometri    vrsta_motorja  \\\n",
       "556                    2006               105000  bencinski motor   \n",
       "577                    2001               110000  bencinski motor   \n",
       "303                    2003               195600     diesel motor   \n",
       "552                    2002               128000  bencinski motor   \n",
       "553                    2002               128000  bencinski motor   \n",
       "..                      ...                  ...              ...   \n",
       "822                    2014               175532     diesel motor   \n",
       "759                    2003               184000  bencinski motor   \n",
       "324                    2004               183000  bencinski motor   \n",
       "545                    2006               190000  bencinski motor   \n",
       "243                    2006                50062  bencinski motor   \n",
       "\n",
       "         vrsta_menjalnika velikost_motorja moc_motorja  cena  \n",
       "556       ročni menjalnik             1364          66   300  \n",
       "577       ročni menjalnik             1124          44   505  \n",
       "303       ročni menjalnik             1997          66   530  \n",
       "552       ročni menjalnik             1199          55   550  \n",
       "553       ročni menjalnik             1199          55   550  \n",
       "..                    ...              ...         ...   ...  \n",
       "822  avtomatski menjalnik             1968         110   800  \n",
       "759       ročni menjalnik             1298          64   850  \n",
       "324       ročni menjalnik             1242          59   850  \n",
       "545       ročni menjalnik             1229          59   900  \n",
       "243       ročni menjalnik             1150          53   950  \n",
       "\n",
       "[18 rows x 9 columns]"
      ]
     },
     "execution_count": 45,
     "metadata": {},
     "output_type": "execute_result"
    }
   ],
   "source": [
    "boljsa_studentska_izbira = studentski_avti[(studentski_avti.leto_prve_registracije > 2000) & (studentski_avti.prevozeni_kilometri < 200000)]\n",
    "boljsa_studentska_izbira.sort_values([\"cena\", \"leto_prve_registracije\"], ascending=[True, True])"
   ]
  },
  {
   "cell_type": "code",
   "execution_count": 103,
   "metadata": {
    "scrolled": false
   },
   "outputs": [
    {
     "data": {
      "text/plain": [
       "<AxesSubplot:xlabel='znamka'>"
      ]
     },
     "execution_count": 103,
     "metadata": {},
     "output_type": "execute_result"
    },
    {
     "data": {
      "image/png": "[encoded data removed]",
      "text/plain": [
       "<Figure size 432x288 with 1 Axes>"
      ]
     },
     "metadata": {
      "needs_background": "light"
     },
     "output_type": "display_data"
    }
   ],
   "source": [
    "boljsa_studentska_izbira.groupby(\"znamka\").mean().sort_values(\"cena\", ascending=[False]).plot.bar(y=\"cena\")"
   ]
  },
  {
   "cell_type": "code",
   "execution_count": 80,
   "metadata": {},
   "outputs": [
    {
     "data": {
      "text/plain": [
       "10"
      ]
     },
     "execution_count": 80,
     "metadata": {},
     "output_type": "execute_result"
    }
   ],
   "source": [
    "boljsa_studentska_izbira.znamka.nunique()"
   ]
  },
  {
   "cell_type": "markdown",
   "metadata": {},
   "source": [
    "Ob teh pogojih ima študent na voljo osemnajst avtomobilov desetih znamk. Pri tem se bo finančno rezerviran študent odločil za Citroena, Chevrolet pa bo izbira tistega, ki ima nekoliko več denarja. \n",
    "\n",
    "Poglejmo si še kakšen je povprečen avto, ki ga lahko pričakuje kupec za manj kot 1000€.\n",
    "TODO"
   ]
  },
  {
   "cell_type": "markdown",
   "metadata": {},
   "source": [
    "## 2. Primerjava bencin/dizel\n",
    "\n",
    "Ob nakupu avtomobila se lahko izbere različne vrste motorja. Včasih je bil v uporabi predvsem bencinski motor, v zadnjih desetletjih pa se mu je na vrhu lestvice popularnosti pridružil dizelski motor. Na trgu so tudi druge različice, kot na primer avtomobili na električni pogon in pa hibridna vozila, a so le te vsaj zankrat v manjšini."
   ]
  },
  {
   "cell_type": "code",
   "execution_count": 9,
   "metadata": {
    "scrolled": false
   },
   "outputs": [
    {
     "data": {
      "text/plain": [
       "<AxesSubplot:xlabel='vrsta_motorja'>"
      ]
     },
     "execution_count": 9,
     "metadata": {},
     "output_type": "execute_result"
    },
    {
     "data": {
      "image/png": "[encoded data removed]",
      "text/plain": [
       "<Figure size 432x288 with 1 Axes>"
      ]
     },
     "metadata": {
      "needs_background": "light"
     },
     "output_type": "display_data"
    }
   ],
   "source": [
    "avtomobili_motor = avti.groupby(\"vrsta_motorja\")\n",
    "avtomobili_motor.size().plot.bar(x=\"vrsta_motorja\", y=avtomobili_motor.size())"
   ]
  },
  {
   "cell_type": "markdown",
   "metadata": {},
   "source": [
    "V skladu z zgoraj napisanim so tudi rabljeni avtomobili na avto.net v večini primerov opremljeni bodisi z bencinskim bodisi z dizlovim motorjem, ki ga ima največ avtomobilov. Posledično je smiselno ti dve vrsti motorja primerjati in se vprašati, kateri motor je za kupca boljša izbira.\n",
    "Dizelski motor je v primerjavi z bencinskim smatran za primernejšega za daljše razdalje, veliko prevoženih kilometrov in običajno velja za nekoliko dražjega. Dolgi kilometri na cesti naj bi se bolj izplačali z dizlovim motorjem, saj je za dizel ponavadi potrebno odšteti precej manj kot za bencin. Potrebno pa je omeniti, da je v času posledic ki jih je Covid-19 pustil na svetovnom gospodarstvu, ta razlika v ceni zanemarljiva oziroma je bencin še cenejši (1,074€ / 1,124€ - iz dne 2.2.2021, vir: [AMZS](https://www.amzs.si/na-poti/cene-goriv-po-evropi)).\n",
    "Primerjajmo torej rabljene avtomobile z dizlovim in bencinskim motorjem, ki jih je moč kupiti na [avto.net](https://www.avto.net/Ads/results.asp?znamka=&model=&modelID=&tip=&znamka2=&model2=&tip2=&znamka3=&model3=&tip3=&cenaMin=0&cenaMax=999999&letnikMin=0&letnikMax=2090&bencin=0&starost2=999&oblika=&ccmMin=0&ccmMax=99999&mocMin=&mocMax=&kmMin=0&kmMax=9999999&kwMin=0&kwMax=999&motortakt=&motorvalji=&lokacija=0&sirina=&dolzina=&dolzinaMIN=&dolzinaMAX=&nosilnostMIN=&nosilnostMAX=&lezisc=&presek=&premer=&col=&vijakov=&EToznaka=&vozilo=&airbag=&barva=&barvaint=&EQ1=1000000000&EQ2=1000000000&EQ3=1000000000&EQ4=100000000&EQ5=1000000000&EQ6=1000000000&EQ7=1000100020&EQ8=1010000001&EQ9=100000000&KAT=1010000000&PIA=&PIAzero=&PSLO=&akcija=&paketgarancije=0&broker=&prikazkategorije=&kategorija=&ONLvid=&ONLnak=&zaloga=10&arhiv=&presort=&tipsort=&stran=)."
   ]
  },
  {
   "cell_type": "markdown",
   "metadata": {},
   "source": [
    "Za začetek si oglejmo povprečno ceno avta glede na motor."
   ]
  },
  {
   "cell_type": "code",
   "execution_count": 152,
   "metadata": {
    "scrolled": false
   },
   "outputs": [
    {
     "data": {
      "text/plain": [
       "<AxesSubplot:xlabel='vrsta_motorja'>"
      ]
     },
     "execution_count": 152,
     "metadata": {},
     "output_type": "execute_result"
    },
    {
     "data": {
      "image/png": "[encoded data removed]",
      "text/plain": [
       "<Figure size 432x288 with 1 Axes>"
      ]
     },
     "metadata": {
      "needs_background": "light"
     },
     "output_type": "display_data"
    }
   ],
   "source": [
    "izbrana_motorja = avti[(avti.vrsta_motorja == \"bencinski motor\") | (avti.vrsta_motorja == \"diesel motor\")].groupby(\"vrsta_motorja\")\n",
    "izbrana_motorja.cena.mean().round().plot.bar(x = \"vrsta_motorja\", y = izbrana_motorja.cena)"
   ]
  },
  {
   "cell_type": "markdown",
   "metadata": {},
   "source": [
    "Podajmo še primerjavo glede na povprečno prevoženo razdaljo v kilometrih."
   ]
  },
  {
   "cell_type": "code",
   "execution_count": 155,
   "metadata": {
    "scrolled": true
   },
   "outputs": [
    {
     "data": {
      "text/plain": [
       "<AxesSubplot:xlabel='vrsta_motorja'>"
      ]
     },
     "execution_count": 155,
     "metadata": {},
     "output_type": "execute_result"
    },
    {
     "data": {
      "image/png": "[encoded data removed]",
      "text/plain": [
       "<Figure size 432x288 with 1 Axes>"
      ]
     },
     "metadata": {
      "needs_background": "light"
     },
     "output_type": "display_data"
    }
   ],
   "source": [
    "izbrana_motorja.prevozeni_kilometri.mean().round().plot.bar(x = \"vrsta_motorja\", y = izbrana_motorja.prevozeni_kilometri)"
   ]
  },
  {
   "cell_type": "markdown",
   "metadata": {},
   "source": [
    "Na zadnje dodajmo še primerjavo povprečnih starosti avtomobilov (oz. leto registracije) glede na motor."
   ]
  },
  {
   "cell_type": "code",
   "execution_count": 163,
   "metadata": {
    "scrolled": true
   },
   "outputs": [
    {
     "data": {
      "text/plain": [
       "<AxesSubplot:xlabel='vrsta_motorja'>"
      ]
     },
     "execution_count": 163,
     "metadata": {},
     "output_type": "execute_result"
    },
    {
     "data": {
      "image/png": "[encoded data removed]",
      "text/plain": [
       "<Figure size 432x288 with 1 Axes>"
      ]
     },
     "metadata": {
      "needs_background": "light"
     },
     "output_type": "display_data"
    }
   ],
   "source": [
    "izbrana_motorja.leto_prve_registracije.mean().round().plot.bar(x = \"vrsta_motorja\", y = izbrana_motorja.leto_prve_registracije, ylim=(2000, 2012))"
   ]
  },
  {
   "cell_type": "markdown",
   "metadata": {},
   "source": [
    "Kot vidimo iz grafov predpostavke o ceni in prevoženi razdalji držijo. Prav tako lahko vidimo, da so bencinski avtomobili v povprečju starejši, kar lahko pripišemo popularizaciji dizlovih motorjev v zadnjem desetletju.\n",
    "\n",
    "Očitno opazimo, da je razlika v povprečni ceni med motorjema ogromna, skoraj dvakratna, zato je smotrno upoštevati še dodatne parametre, ki igrajo vlogo pri gibanju cen in s tem dobiti realnejšo sliko o cenovni razliki med \"bencincem\" in \"dizlom\". To so vrsta menjalnika, velikost in moč motorja, število prevoženih kilometrov in pa seveda starost avtomobila, ki jo bomo za potrebe analize enačili s pretečenim časom od prve registracije."
   ]
  },
  {
   "cell_type": "code",
   "execution_count": 21,
   "metadata": {
    "scrolled": true
   },
   "outputs": [],
   "source": [
    "avti[\"petletje\"] = 5 * round(avti.leto_prve_registracije / 5)"
   ]
  },
  {
   "cell_type": "markdown",
   "metadata": {},
   "source": [
    "## 3. Najugodnejša znamka"
   ]
  },
  {
   "cell_type": "markdown",
   "metadata": {},
   "source": [
    "Želimo ugotoviti, katera znamka novejših avtomobilov je cenovno ugodnejša, upoštevajoč število prevoženih kilometrov.\n",
    "\n",
    "Najprej si poglejmo povprečno cenovno sliko.\n"
   ]
  },
  {
   "cell_type": "code",
   "execution_count": 42,
   "metadata": {},
   "outputs": [
    {
     "data": {
      "text/plain": [
       "<AxesSubplot:xlabel='znamka'>"
      ]
     },
     "execution_count": 42,
     "metadata": {},
     "output_type": "execute_result"
    },
    {
     "data": {
      "image/png": "[encoded data removed]",
      "text/plain": [
       "<Figure size 432x288 with 1 Axes>"
      ]
     },
     "metadata": {
      "needs_background": "light"
     },
     "output_type": "display_data"
    }
   ],
   "source": [
    "avti[avti.leto_prve_registracije < 2016].groupby(\"znamka\").mean()[\"cena\"].sort_values(ascending=[False]).plot.bar()"
   ]
  },
  {
   "cell_type": "markdown",
   "metadata": {},
   "source": [
    "Pričakovano so tudi med rabljenimi avti-starimi manj kot 5 let-najdražje nekatere elitne firme, kot na primer BMW, Cadillac, Porsche in ameriški Dodge, med cenovno ugodnejšimi pa najdemo znamke kot so Jaguar, Suzuki, Dacia, Seat ipd. "
   ]
  },
  {
   "cell_type": "code",
   "execution_count": 54,
   "metadata": {},
   "outputs": [
    {
     "data": {
      "text/plain": [
       "<AxesSubplot:xlabel='prevozeni_kilometri', ylabel='cena'>"
      ]
     },
     "execution_count": 54,
     "metadata": {},
     "output_type": "execute_result"
    },
    {
     "data": {
      "image/png": "[encoded data removed]",
      "text/plain": [
       "<Figure size 432x288 with 1 Axes>"
      ]
     },
     "metadata": {
      "needs_background": "light"
     },
     "output_type": "display_data"
    }
   ],
   "source": [
    "avti.plot.scatter(\"prevozeni_kilometri\", \"cena\")"
   ]
  },
  {
   "cell_type": "markdown",
   "metadata": {},
   "source": [
    "Očitno je, da prevožena razdalja vpliva na ceno avtomobila, zato jo bomo upoštevali pri primerjavi cen različnih znamk."
   ]
  },
  {
   "cell_type": "markdown",
   "metadata": {},
   "source": [
    "# 4. Napoved cene"
   ]
  }
 ],
 "metadata": {
  "kernelspec": {
   "display_name": "Python 3",
   "language": "python",
   "name": "python3"
  },
  "language_info": {
   "codemirror_mode": {
    "name": "ipython",
    "version": 3
   },
   "file_extension": ".py",
   "mimetype": "text/x-python",
   "name": "python",
   "nbconvert_exporter": "python",
   "pygments_lexer": "ipython3",
   "version": "3.8.5"
  }
 },
 "nbformat": 4,
 "nbformat_minor": 4
}
